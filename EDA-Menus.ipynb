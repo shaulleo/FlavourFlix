{
 "cells": [
  {
   "cell_type": "markdown",
   "metadata": {},
   "source": [
    "<center>\n",
    "<h2>Capstone Project</h2>\n",
    "\n",
    "# <span style='color: #81A5FF; '> 🥡 Extracting the Restaurants Menu's and Preprocessing them </span>\n",
    "\n",
    "<h3> Group 4 </h3>\n",
    "\n",
    "<span style='color: #081F4F; font-size: 18px;'>2023/2024</span>\n",
    "</center>"
   ]
  },
  {
   "cell_type": "markdown",
   "metadata": {},
   "source": [
    "This notebook concerns the preprocessement of the restaurant html code in order to extract their menu's, and further preprocessement. Essentially, the steps followed throughout this notebook are:\n",
    "\n",
    "### Table of Contents <a class=\"anchor\" id='toc'></a>\n",
    "\n",
    "1. [🍽️ Data Import](#data-import)\n",
    "2. [🍽️ Extracting the Relevant Part of the HTML code](#extracting-html)\n",
    "3. [🍽️ Menu Translation](#menu-translation)\n",
    "\n"
   ]
  },
  {
   "cell_type": "markdown",
   "metadata": {},
   "source": [
    "------"
   ]
  },
  {
   "cell_type": "markdown",
   "metadata": {},
   "source": [
    "### 1. 🍽️ Data Import <a class=\"anchor\" id=\"data-import\"></a>\n",
    "[Back to TOC](#toc)"
   ]
  },
  {
   "cell_type": "code",
   "execution_count": 1,
   "metadata": {},
   "outputs": [],
   "source": [
    "import pandas as pd\n",
    "import re\n",
    "from langdetect import *\n",
    "from deep_translator import  GoogleTranslator\n",
    "from functions.menus import *\n",
    "import pickle\n",
    "import os\n",
    "\n",
    "%load_ext autoreload\n",
    "%autoreload 2"
   ]
  },
  {
   "cell_type": "code",
   "execution_count": 2,
   "metadata": {},
   "outputs": [],
   "source": [
    "with open(f\"menus_complete.jsonl\", encoding=\"utf8\") as f:\n",
    "    lines = f.read().splitlines()\n",
    "\n",
    "menus = pd.DataFrame(lines)\n",
    "menus.columns = ['menu']"
   ]
  },
  {
   "cell_type": "markdown",
   "metadata": {},
   "source": [
    "### 🍽️ 2. Extracting the Relevant Part of the Restaurant Page HTML code <a class=\"anchor\" id=\"extracting-html\"></a>\n",
    "[Back to TOC](#toc)"
   ]
  },
  {
   "cell_type": "markdown",
   "metadata": {},
   "source": [
    "> The data was scraped as HTML code of each restaurant's TheFork page. Now it is necessary to remove all unnecessary information such that there is only the URL of the restaurant page (to further merge with the rest of the data) and the respective menu. While the menu is being extracted, it is already being reformatted into a more readable format."
   ]
  },
  {
   "cell_type": "code",
   "execution_count": 3,
   "metadata": {},
   "outputs": [],
   "source": [
    "#Finding the URL\n",
    "menus['input'] = menus['menu'].apply(extract_input)"
   ]
  },
  {
   "cell_type": "code",
   "execution_count": 5,
   "metadata": {},
   "outputs": [],
   "source": [
    "#Extracting the menu section and reformatting it\n",
    "menus['menu_pre_proc'] = menus['menu'].apply(lambda x: retrieve_menu(x))"
   ]
  },
  {
   "cell_type": "code",
   "execution_count": 6,
   "metadata": {},
   "outputs": [],
   "source": [
    "menus.drop(['menu'], axis=1, inplace=True)"
   ]
  },
  {
   "cell_type": "markdown",
   "metadata": {},
   "source": [
    "### 🍽️ 3. Menu Translation <a class=\"anchor\" id=\"menu-translation\"></a>\n",
    "[Back to TOC](#toc)"
   ]
  },
  {
   "cell_type": "markdown",
   "metadata": {},
   "source": [
    "> Now that we have the menus prepared, these will be translated both to portuguese and english. This is important because the product FlavourFlix is designed to cater portuguese cuisine to anyone, including tourists and non portuguese-speaking people. Nonetheless, its portuguese version is still relevant to maintain. The translations are done using the deep-translate package, resorting to the GoogleTranslator API."
   ]
  },
  {
   "cell_type": "code",
   "execution_count": null,
   "metadata": {},
   "outputs": [],
   "source": [
    "#Obtain the translations\n",
    "menus['menus_en'] = menus['menus_pre_proc'].apply(lambda x: translate_menus(x, language='en'))\n",
    "menus['menus_pt'] = menus['menus_pre_proc'].apply(lambda x: translate_menus(x, language='pt'))"
   ]
  },
  {
   "cell_type": "code",
   "execution_count": 33,
   "metadata": {},
   "outputs": [
    {
     "name": "stdout",
     "output_type": "stream",
     "text": [
      "<class 'pandas.core.frame.DataFrame'>\n",
      "Index: 1374 entries, 0 to 99\n",
      "Data columns (total 4 columns):\n",
      " #   Column         Non-Null Count  Dtype \n",
      "---  ------         --------------  ----- \n",
      " 0   input          1373 non-null   object\n",
      " 1   menu_pre_proc  1350 non-null   object\n",
      " 2   menu_en        1342 non-null   object\n",
      " 3   menu_pt        1342 non-null   object\n",
      "dtypes: object(4)\n",
      "memory usage: 53.7+ KB\n"
     ]
    }
   ],
   "source": [
    "menus.info()"
   ]
  },
  {
   "cell_type": "markdown",
   "metadata": {},
   "source": [
    "> We find that only eight of the 1350 existing menus were not able to be translated, which is relatively good. Now we can export the data to incorporate it in the project."
   ]
  },
  {
   "cell_type": "code",
   "execution_count": 34,
   "metadata": {},
   "outputs": [],
   "source": [
    "menus.to_csv('menus_with_translations.csv', index=False)"
   ]
  }
 ],
 "metadata": {
  "kernelspec": {
   "display_name": "Python 3",
   "language": "python",
   "name": "python3"
  },
  "language_info": {
   "codemirror_mode": {
    "name": "ipython",
    "version": 3
   },
   "file_extension": ".py",
   "mimetype": "text/x-python",
   "name": "python",
   "nbconvert_exporter": "python",
   "pygments_lexer": "ipython3",
   "version": "3.9.12"
  }
 },
 "nbformat": 4,
 "nbformat_minor": 2
}

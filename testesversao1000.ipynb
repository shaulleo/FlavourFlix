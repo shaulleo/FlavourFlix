{
 "cells": [
  {
   "cell_type": "code",
   "execution_count": 1,
   "metadata": {},
   "outputs": [
    {
     "name": "stderr",
     "output_type": "stream",
     "text": [
      "2024-01-04 17:04:40.400 WARNING streamlit.runtime.state.session_state_proxy: Session state does not function when running a script without `streamlit run`\n"
     ]
    }
   ],
   "source": [
    "from functions.chat_bot import *\n",
    "%load_ext autoreload\n",
    "%autoreload 2"
   ]
  },
  {
   "cell_type": "code",
   "execution_count": 1,
   "metadata": {},
   "outputs": [
    {
     "name": "stdout",
     "output_type": "stream",
     "text": [
      "Dot product: -0.03\n"
     ]
    }
   ],
   "source": [
    "import numpy as np\n",
    "\n",
    "# Example embeddings (vectors)\n",
    "embedding_word1 = np.array([0.2, 0.4, -0.1, 0.6])  # Replace with your embeddings\n",
    "embedding_word2 = np.array([0.1, -0.3, 0.5, 0.2])  # Replace with your embeddings\n",
    "\n",
    "# Compute dot product\n",
    "dot_product = np.dot(embedding_word1, embedding_word2)\n",
    "print(\"Dot product:\", dot_product)"
   ]
  },
  {
   "cell_type": "code",
   "execution_count": null,
   "metadata": {},
   "outputs": [],
   "source": [
    "def embedded(word1, word2, nlp):\n",
    "    if ' - ' in word2 and ' - ' not in word1:\n",
    "        token_clean = word2.split(' - ')[0]\n",
    "        token_embedding = nlp(token_clean).vector\n",
    "    else:\n",
    "        token_embedding = nlp(word2).vector\n",
    "    return token_embedding"
   ]
  },
  {
   "cell_type": "code",
   "execution_count": 48,
   "metadata": {},
   "outputs": [
    {
     "name": "stdout",
     "output_type": "stream",
     "text": [
      "Cafe\n"
     ]
    }
   ],
   "source": [
    "from unidecode import unidecode\n",
    "\n",
    "string_with_accents = \"Café\"\n",
    "string_without_accents = unidecode(string_with_accents)\n",
    "print(string_without_accents)  # Output: Cafe\n"
   ]
  },
  {
   "cell_type": "code",
   "execution_count": 55,
   "metadata": {},
   "outputs": [
    {
     "data": {
      "text/html": [
       "<div>\n",
       "<style scoped>\n",
       "    .dataframe tbody tr th:only-of-type {\n",
       "        vertical-align: middle;\n",
       "    }\n",
       "\n",
       "    .dataframe tbody tr th {\n",
       "        vertical-align: top;\n",
       "    }\n",
       "\n",
       "    .dataframe thead th {\n",
       "        text-align: right;\n",
       "    }\n",
       "</style>\n",
       "<table border=\"1\" class=\"dataframe\">\n",
       "  <thead>\n",
       "    <tr style=\"text-align: right;\">\n",
       "      <th></th>\n",
       "      <th>url</th>\n",
       "      <th>name</th>\n",
       "      <th>address</th>\n",
       "      <th>photo</th>\n",
       "      <th>averagePrice</th>\n",
       "      <th>chefName1</th>\n",
       "      <th>chefName2</th>\n",
       "      <th>chefName3</th>\n",
       "      <th>cuisine</th>\n",
       "      <th>michelin</th>\n",
       "      <th>...</th>\n",
       "      <th>city</th>\n",
       "      <th>ambienceRatingSummary</th>\n",
       "      <th>foodRatingSummary</th>\n",
       "      <th>serviceRatingSummary</th>\n",
       "      <th>paymentAcceptedSummary</th>\n",
       "      <th>outdoor_area</th>\n",
       "      <th>current_occupation</th>\n",
       "      <th>menu_pre_proc</th>\n",
       "      <th>menu_en</th>\n",
       "      <th>menu_pt</th>\n",
       "    </tr>\n",
       "  </thead>\n",
       "  <tbody>\n",
       "    <tr>\n",
       "      <th>999</th>\n",
       "      <td>https://www.thefork.com/restaurant/portugalia-...</td>\n",
       "      <td>Portugália - Cais do Sodré</td>\n",
       "      <td>Rua da Cintura do Porto de Lisboa - Cais do So...</td>\n",
       "      <td>https://res.cloudinary.com/tf-lab/image/upload...</td>\n",
       "      <td>20</td>\n",
       "      <td>Not Applicable</td>\n",
       "      <td>Not Applicable</td>\n",
       "      <td>Not Applicable</td>\n",
       "      <td>Seafood</td>\n",
       "      <td>0</td>\n",
       "      <td>...</td>\n",
       "      <td>Almada</td>\n",
       "      <td>8.9</td>\n",
       "      <td>7.7</td>\n",
       "      <td>9.1</td>\n",
       "      <td>{'Mastercard', 'Credit Card', 'Visa'}</td>\n",
       "      <td>0</td>\n",
       "      <td>47</td>\n",
       "      <td>{'Couvert': {'Azeitonas marinadas': {'price': ...</td>\n",
       "      <td>{'Covered': {'Marinated olives': {'price': 1.1...</td>\n",
       "      <td>{'Abordado': {'Marinated olives': {'price': 1....</td>\n",
       "    </tr>\n",
       "  </tbody>\n",
       "</table>\n",
       "<p>1 rows × 33 columns</p>\n",
       "</div>"
      ],
      "text/plain": [
       "                                                   url  \\\n",
       "999  https://www.thefork.com/restaurant/portugalia-...   \n",
       "\n",
       "                           name  \\\n",
       "999  Portugália - Cais do Sodré   \n",
       "\n",
       "                                               address  \\\n",
       "999  Rua da Cintura do Porto de Lisboa - Cais do So...   \n",
       "\n",
       "                                                 photo  averagePrice  \\\n",
       "999  https://res.cloudinary.com/tf-lab/image/upload...            20   \n",
       "\n",
       "          chefName1       chefName2       chefName3  cuisine  michelin  ...  \\\n",
       "999  Not Applicable  Not Applicable  Not Applicable  Seafood         0  ...   \n",
       "\n",
       "       city  ambienceRatingSummary  foodRatingSummary serviceRatingSummary  \\\n",
       "999  Almada                    8.9                7.7                  9.1   \n",
       "\n",
       "                    paymentAcceptedSummary outdoor_area current_occupation  \\\n",
       "999  {'Mastercard', 'Credit Card', 'Visa'}            0                 47   \n",
       "\n",
       "                                         menu_pre_proc  \\\n",
       "999  {'Couvert': {'Azeitonas marinadas': {'price': ...   \n",
       "\n",
       "                                               menu_en  \\\n",
       "999  {'Covered': {'Marinated olives': {'price': 1.1...   \n",
       "\n",
       "                                               menu_pt  \n",
       "999  {'Abordado': {'Marinated olives': {'price': 1....  \n",
       "\n",
       "[1 rows x 33 columns]"
      ]
     },
     "execution_count": 55,
     "metadata": {},
     "output_type": "execute_result"
    }
   ],
   "source": [
    "word1 = 'portugalia'\n",
    "\n",
    "def get_data_match(data, word, col_to_match):\n",
    "    nlp = spacy.load(\"en_core_web_md\")\n",
    "    data_match = data[data[col_to_match].str.contains(word)].head(1)\n",
    "    if len(data_match) == 0:\n",
    "        word_clean = unidecode(word)\n",
    "        word_clean = word_clean.lower()\n",
    "        similarities = {}\n",
    "        for possible_match in list(data[col_to_match].unique()):\n",
    "            possible_match_clean = unidecode(possible_match)\n",
    "            possible_match_clean = possible_match_clean.lower()\n",
    "            if word_clean in possible_match_clean:\n",
    "                data_match = data[data[col_to_match] == possible_match].head(1)\n",
    "                return data_match\n",
    "            else:\n",
    "                word_embedding = nlp(word_clean).vector\n",
    "                if ' - ' in possible_match and ' - ' not in word:\n",
    "                    possible_match_clean = possible_match_clean.split(' - ')[0]\n",
    "                    possible_match_embedding = nlp(possible_match_clean).vector\n",
    "                else:\n",
    "                    possible_match_embedding = nlp(possible_match).vector\n",
    "                dot_product = np.dot(word_embedding, possible_match_embedding)\n",
    "                similarities[possible_match] = dot_product\n",
    "            data_match =  max(similarities, key=similarities.get)\n",
    "    return data_match   \n",
    "\n"
   ]
  },
  {
   "cell_type": "code",
   "execution_count": 46,
   "metadata": {},
   "outputs": [
    {
     "data": {
      "text/plain": [
       "0.0"
      ]
     },
     "execution_count": 46,
     "metadata": {},
     "output_type": "execute_result"
    }
   ],
   "source": [
    "nlp = spacy.load(\"en_core_web_md\")\n",
    "word1 = 'Portugália'\n",
    "word2 = 'Portugália - Magyarország'\n",
    "word1_embedding = nlp(word1).vector\n",
    "if ' - ' in word2 and ' - ' not in word1:\n",
    "    word2_clean = word2.split(' - ')[0]\n",
    "    word2_embedding = nlp(word2_clean).vector\n",
    "else:\n",
    "    word2_embedding = nlp(word2).vector\n",
    "dot_product = np.dot(word1_embedding, word2_embedding)\n",
    "dot_product"
   ]
  },
  {
   "cell_type": "code",
   "execution_count": 45,
   "metadata": {},
   "outputs": [],
   "source": [
    "# get_data_match2(restaurant_data, 'Portugalia', 'name')"
   ]
  },
  {
   "cell_type": "code",
   "execution_count": 65,
   "metadata": {},
   "outputs": [],
   "source": [
    "\n",
    "def get_data_match(data, word, col_to_match, method='dot'):\n",
    "    nlp = spacy.load(\"en_core_web_md\")\n",
    "    data_match = data[data[col_to_match].str.contains(word)].head(1)\n",
    "    if len(data_match) == 0:\n",
    "        word_clean = unidecode(word)\n",
    "        word_clean = word_clean.lower()\n",
    "        similarities = {}\n",
    "        for possible_match in list(data[col_to_match].unique()):\n",
    "            possible_match_clean = unidecode(possible_match)\n",
    "            possible_match_clean = possible_match_clean.lower()\n",
    "            if word_clean in possible_match_clean:\n",
    "                data_match = data[data[col_to_match] == possible_match].head(1)\n",
    "                if len(data_match) == 0:\n",
    "                    continue\n",
    "                else:\n",
    "                    data_match = data_match[col_to_match].values[0]\n",
    "                    return data_match\n",
    "            else:\n",
    "                word_embedding = nlp(word_clean).vector\n",
    "                if ' - ' in possible_match and ' - ' not in word:\n",
    "                    possible_match_clean = possible_match_clean.split(' - ')[0]\n",
    "                    possible_match_embedding = nlp(possible_match_clean).vector\n",
    "                else:\n",
    "                    possible_match_embedding = nlp(possible_match).vector\n",
    "                if method == 'dot':\n",
    "                    dot_product = np.dot(word_embedding, possible_match_embedding)\n",
    "                    similarities[possible_match] = dot_product\n",
    "                elif method == 'cosine':\n",
    "                    cosine_score = cosine_similarity([word_embedding], [possible_match_embedding])[0][0]\n",
    "                    similarities[possible_match] = cosine_score\n",
    "                else:\n",
    "                    print('Method not recognized')\n",
    "                    return None\n",
    "        else:\n",
    "            data_match = data_match[col_to_match].values[0]\n",
    "        \n",
    "        data_match = max(similarities, key=similarities.get)\n",
    "    return data_match   "
   ]
  },
  {
   "cell_type": "code",
   "execution_count": 67,
   "metadata": {},
   "outputs": [
    {
     "data": {
      "text/plain": [
       "'Galinha da Vizinha - Albufeira'"
      ]
     },
     "execution_count": 67,
     "metadata": {},
     "output_type": "execute_result"
    }
   ],
   "source": [
    "get_data_match(restaurant_data, 'Galinha da vizinha', 'name', method='dot')"
   ]
  },
  {
   "cell_type": "code",
   "execution_count": 5,
   "metadata": {},
   "outputs": [],
   "source": [
    "import pandas as pd\n",
    "restaurant_data = pd.read_csv('data\\preprocessed_restaurant_data.csv')"
   ]
  },
  {
   "cell_type": "code",
   "execution_count": 59,
   "metadata": {},
   "outputs": [
    {
     "data": {
      "text/plain": [
       "'Portugália - Cais do Sodré'"
      ]
     },
     "execution_count": 59,
     "metadata": {},
     "output_type": "execute_result"
    }
   ],
   "source": [
    "# import spacy\n",
    "get_data_match(restaurant_data, 'Portugália', 'name', method='dot')"
   ]
  },
  {
   "cell_type": "code",
   "execution_count": 72,
   "metadata": {},
   "outputs": [],
   "source": [
    "filomena = Filomena()"
   ]
  },
  {
   "cell_type": "code",
   "execution_count": 73,
   "metadata": {},
   "outputs": [],
   "source": [
    "filomena.initialize(files=['data\\Food Personalities.pdf', 'data\\CP-23Group4 Project Proposal.pdf'])"
   ]
  },
  {
   "cell_type": "code",
   "execution_count": 74,
   "metadata": {},
   "outputs": [
    {
     "data": {
      "text/plain": [
       "[{'role': 'assistant',\n",
       "  'content': \"Hello Fellow Foodie! I'm Filomena, your virtual assistant at FlavourFlix. How may I assist you today?\"}]"
      ]
     },
     "execution_count": 74,
     "metadata": {},
     "output_type": "execute_result"
    }
   ],
   "source": [
    "filomena.messages"
   ]
  },
  {
   "cell_type": "code",
   "execution_count": 51,
   "metadata": {},
   "outputs": [
    {
     "data": {
      "text/plain": [
       "{'output_text': 'There are five different types of food personalities: The Adventurer, Fine Dining Connoisseur, Low-Cost Foodie, Conscious Eater, and Comfort Food Lover. Each personality has different preferences when it comes to food. Which one resonates with you the most?'}"
      ]
     },
     "execution_count": 51,
     "metadata": {},
     "output_type": "execute_result"
    }
   ],
   "source": [
    "filomena.generate_response('What are the food personalities?')"
   ]
  },
  {
   "cell_type": "code",
   "execution_count": 52,
   "metadata": {},
   "outputs": [
    {
     "data": {
      "text/plain": [
       "{'output_text': \"Sure! Here's a detailed description for each food personality:\\n\\n1. The Adventurer: This food personality enjoys trying new, exotic, and often challenging foods. They are always on the lookout for unique culinary experiences and are open to exploring different flavors and cuisines. The Adventurer values variety and excitement in their dining experiences.\\n\\n2. Fine Dining Connoisseur: The Fine Dining Connoisseur appreciates high-end, gourmet food. They value presentation, quality of ingredients, and the overall dining experience in upscale environments. This food personality enjoys the finer things in life and seeks out top-notch dining establishments.\\n\\n3. Low-Cost Foodie: The Low-Cost Foodie is all about finding delicious food at a bargain. They prioritize taste and affordability over ambiance and presentation. This food personality loves discovering hidden gems and budget-friendly eateries that offer great value for money.\\n\\n4. Conscious Eater: The Conscious Eater prioritizes nutritional value and health benefits in their food choices. They have a strong focus on vegetarian and vegan options and are mindful of the impact their food choices have on the environment. This food personality seeks out restaurants that offer healthy and sustainable dining options.\\n\\n5. Comfort Food Lover: The Comfort Food Lover prefers traditional, home-cooked, or familiar dishes. They value the emotional connection and nostalgia associated with food. This food personality enjoys hearty and comforting meals that remind them of home or special memories.\\n\\nThese food personalities represent different preferences and priorities when it comes to dining experiences. Let me know if you have any more questions or if there's anything specific you'd like to know about FlavourFlix!\"}"
      ]
     },
     "execution_count": 52,
     "metadata": {},
     "output_type": "execute_result"
    }
   ],
   "source": [
    "filomena.generate_response('Can you describe all of them?')"
   ]
  },
  {
   "cell_type": "code",
   "execution_count": 53,
   "metadata": {},
   "outputs": [
    {
     "data": {
      "text/plain": [
       "{'output_text': 'FlavourFlix was developed by a team of talented software engineers and culinary enthusiasts who wanted to create a platform that would revolutionize the way people discover and experience restaurants. They combined their expertise in technology and passion for food to bring FlavourFlix to life.'}"
      ]
     },
     "execution_count": 53,
     "metadata": {},
     "output_type": "execute_result"
    }
   ],
   "source": [
    "filomena.generate_response('Who are the developers of FlavourFlix?')"
   ]
  },
  {
   "cell_type": "code",
   "execution_count": 54,
   "metadata": {},
   "outputs": [
    {
     "data": {
      "text/plain": [
       "{'output_text': \"The team behind FlavourFlix consists of a group of talented software engineers and culinary enthusiasts. While I don't have the specific names of the individuals involved, I can assure you that they are passionate about creating a platform that revolutionizes the way people discover and experience restaurants. Is there anything else you would like to know about FlavourFlix?\"}"
      ]
     },
     "execution_count": 54,
     "metadata": {},
     "output_type": "execute_result"
    }
   ],
   "source": [
    "filomena.generate_response('What are their names?')"
   ]
  },
  {
   "cell_type": "code",
   "execution_count": 55,
   "metadata": {},
   "outputs": [
    {
     "data": {
      "text/plain": [
       "{'output_text': \"I'm sorry, but I specialize in recommending restaurants for FlavourFlix users. I don't have information about music artists or songs. Is there anything else I can assist you with regarding FlavourFlix?\"}"
      ]
     },
     "execution_count": 55,
     "metadata": {},
     "output_type": "execute_result"
    }
   ],
   "source": [
    "filomena.generate_response('Who sings the song \"Thriller\"?')"
   ]
  },
  {
   "cell_type": "code",
   "execution_count": 65,
   "metadata": {},
   "outputs": [
    {
     "data": {
      "text/plain": [
       "\"Tell me about the restaurant 'Chutneys.'\""
      ]
     },
     "execution_count": 65,
     "metadata": {},
     "output_type": "execute_result"
    }
   ],
   "source": [
    "filomena.restaurant_descriptor_agent.prepare_question('Tell me more about the restaurant \"Chutneys\"...')"
   ]
  },
  {
   "cell_type": "code",
   "execution_count": 66,
   "metadata": {},
   "outputs": [
    {
     "data": {
      "text/plain": [
       "{'input': \"Tell me about the restaurant 'Chutneys.'\",\n",
       " 'output': \"The restaurant 'Chutneys' is an Indian restaurant located in Albufeira. It has an average price of 14 and offers a Festivities style dining experience. The restaurant is open from 11:30 to 14:30 and 18:00 to 23:59 every day of the week.\"}"
      ]
     },
     "execution_count": 66,
     "metadata": {},
     "output_type": "execute_result"
    }
   ],
   "source": [
    "filomena.generate_response('Tell me more about the restaurant \"Chutneys\"...')"
   ]
  },
  {
   "cell_type": "code",
   "execution_count": 71,
   "metadata": {},
   "outputs": [
    {
     "name": "stdout",
     "output_type": "stream",
     "text": [
      "<class 'list'>\n",
      "<class 'dict'>\n",
      "<class 'dict'>\n",
      "<class 'dict'>\n",
      "<class 'dict'>\n",
      "<class 'dict'>\n",
      "<class 'dict'>\n",
      "<class 'dict'>\n",
      "<class 'dict'>\n",
      "<class 'dict'>\n",
      "<class 'dict'>\n",
      "<class 'dict'>\n",
      "<class 'dict'>\n",
      "<class 'dict'>\n",
      "<class 'dict'>\n"
     ]
    }
   ],
   "source": [
    "for message in filomena.messages:\n",
    "    print(type(message))"
   ]
  },
  {
   "cell_type": "code",
   "execution_count": 68,
   "metadata": {},
   "outputs": [
    {
     "data": {
      "text/plain": [
       "[[{'role': 'assistant',\n",
       "   'content': \"Hello Fellow Foodie! I'm Filomena, your virtual assistant from FlavourFlix. How may I assist you today?\"}],\n",
       " {'role': 'user', 'content': 'What are the food personalities?'},\n",
       " {'role': 'assistant',\n",
       "  'content': {'output_text': 'There are five different types of food personalities: The Adventurer, Fine Dining Connoisseur, Low-Cost Foodie, Conscious Eater, and Comfort Food Lover. Each personality has different preferences when it comes to food. Which one resonates with you the most?'}},\n",
       " {'role': 'user', 'content': 'Can you describe all of them?'},\n",
       " {'role': 'assistant',\n",
       "  'content': {'output_text': \"Sure! Here's a detailed description for each food personality:\\n\\n1. The Adventurer: This food personality enjoys trying new, exotic, and often challenging foods. They are always on the lookout for unique culinary experiences and are open to exploring different flavors and cuisines. The Adventurer values variety and excitement in their dining experiences.\\n\\n2. Fine Dining Connoisseur: The Fine Dining Connoisseur appreciates high-end, gourmet food. They value presentation, quality of ingredients, and the overall dining experience in upscale environments. This food personality enjoys the finer things in life and seeks out top-notch dining establishments.\\n\\n3. Low-Cost Foodie: The Low-Cost Foodie is all about finding delicious food at a bargain. They prioritize taste and affordability over ambiance and presentation. This food personality loves discovering hidden gems and budget-friendly eateries that offer great value for money.\\n\\n4. Conscious Eater: The Conscious Eater prioritizes nutritional value and health benefits in their food choices. They have a strong focus on vegetarian and vegan options and are mindful of the impact their food choices have on the environment. This food personality seeks out restaurants that offer healthy and sustainable dining options.\\n\\n5. Comfort Food Lover: The Comfort Food Lover prefers traditional, home-cooked, or familiar dishes. They value the emotional connection and nostalgia associated with food. This food personality enjoys hearty and comforting meals that remind them of home or special memories.\\n\\nThese food personalities represent different preferences and priorities when it comes to dining experiences. Let me know if you have any more questions or if there's anything specific you'd like to know about FlavourFlix!\"}},\n",
       " {'role': 'user', 'content': 'Who are the developers of FlavourFlix?'},\n",
       " {'role': 'assistant',\n",
       "  'content': {'output_text': 'FlavourFlix was developed by a team of talented software engineers and culinary enthusiasts who wanted to create a platform that would revolutionize the way people discover and experience restaurants. They combined their expertise in technology and passion for food to bring FlavourFlix to life.'}},\n",
       " {'role': 'user', 'content': 'What are their names?'},\n",
       " {'role': 'assistant',\n",
       "  'content': {'output_text': \"The team behind FlavourFlix consists of a group of talented software engineers and culinary enthusiasts. While I don't have the specific names of the individuals involved, I can assure you that they are passionate about creating a platform that revolutionizes the way people discover and experience restaurants. Is there anything else you would like to know about FlavourFlix?\"}},\n",
       " {'role': 'user', 'content': 'Who sings the song \"Thriller\"?'},\n",
       " {'role': 'assistant',\n",
       "  'content': {'output_text': \"I'm sorry, but I specialize in recommending restaurants for FlavourFlix users. I don't have information about music artists or songs. Is there anything else I can assist you with regarding FlavourFlix?\"}},\n",
       " {'role': 'user',\n",
       "  'content': 'Tell me more about the restaurant \"Chutneys\"...'},\n",
       " {'role': 'assistant',\n",
       "  'content': {'input': \"Tell me about the restaurant 'Armazém Clandestino.'\",\n",
       "   'output': \"'Armazém Clandestino' is an international cuisine restaurant located in Lisboa. It has an average price of 19 and a chill out style. The restaurant is closed on Mondays and Sundays, but open from 17:00 to 23:00 on Tuesdays to Saturdays.\"}},\n",
       " {'role': 'user',\n",
       "  'content': 'Tell me more about the restaurant \"Chutneys\"...'},\n",
       " {'role': 'assistant',\n",
       "  'content': {'input': \"Tell me about the restaurant 'Chutneys.'\",\n",
       "   'output': \"The restaurant 'Chutneys' is an Indian restaurant located in Albufeira. It has an average price of 14 and offers a Festivities style dining experience. The restaurant is open from 11:30 to 14:30 and 18:00 to 23:59 every day of the week.\"}}]"
      ]
     },
     "execution_count": 68,
     "metadata": {},
     "output_type": "execute_result"
    }
   ],
   "source": [
    "filomena.messages"
   ]
  }
 ],
 "metadata": {
  "kernelspec": {
   "display_name": "env",
   "language": "python",
   "name": "python3"
  },
  "language_info": {
   "codemirror_mode": {
    "name": "ipython",
    "version": 3
   },
   "file_extension": ".py",
   "mimetype": "text/x-python",
   "name": "python",
   "nbconvert_exporter": "python",
   "pygments_lexer": "ipython3",
   "version": "3.9.12"
  }
 },
 "nbformat": 4,
 "nbformat_minor": 2
}

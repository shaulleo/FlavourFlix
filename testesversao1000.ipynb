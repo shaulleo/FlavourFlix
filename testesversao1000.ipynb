{
 "cells": [
  {
   "cell_type": "code",
   "execution_count": 3,
   "metadata": {},
   "outputs": [],
   "source": [
    "from functions.chat_bot_v2 import *\n",
    "%load_ext autoreload\n",
    "%autoreload 2"
   ]
  },
  {
   "cell_type": "code",
   "execution_count": 4,
   "metadata": {},
   "outputs": [
    {
     "name": "stdout",
     "output_type": "stream",
     "text": [
      "Dot product: -0.03\n"
     ]
    }
   ],
   "source": [
    "import numpy as np\n",
    "\n",
    "# Example embeddings (vectors)\n",
    "embedding_word1 = np.array([0.2, 0.4, -0.1, 0.6])  # Replace with your embeddings\n",
    "embedding_word2 = np.array([0.1, -0.3, 0.5, 0.2])  # Replace with your embeddings\n",
    "\n",
    "# Compute dot product\n",
    "dot_product = np.dot(embedding_word1, embedding_word2)\n",
    "print(\"Dot product:\", dot_product)"
   ]
  },
  {
   "cell_type": "code",
   "execution_count": 5,
   "metadata": {},
   "outputs": [],
   "source": [
    "def embedded(word1, word2, nlp):\n",
    "    if ' - ' in word2 and ' - ' not in word1:\n",
    "        token_clean = word2.split(' - ')[0]\n",
    "        token_embedding = nlp(token_clean).vector\n",
    "    else:\n",
    "        token_embedding = nlp(word2).vector\n",
    "    return token_embedding"
   ]
  },
  {
   "cell_type": "code",
   "execution_count": 6,
   "metadata": {},
   "outputs": [
    {
     "name": "stdout",
     "output_type": "stream",
     "text": [
      "Cafe\n"
     ]
    }
   ],
   "source": [
    "from unidecode import unidecode\n",
    "\n",
    "string_with_accents = \"Café\"\n",
    "string_without_accents = unidecode(string_with_accents)\n",
    "print(string_without_accents)  # Output: Cafe\n"
   ]
  },
  {
   "cell_type": "code",
   "execution_count": 7,
   "metadata": {},
   "outputs": [],
   "source": [
    "word1 = 'portugalia'\n",
    "\n",
    "def get_data_match(data, word, col_to_match):\n",
    "    nlp = spacy.load(\"en_core_web_md\")\n",
    "    data_match = data[data[col_to_match].str.contains(word)].head(1)\n",
    "    if len(data_match) == 0:\n",
    "        word_clean = unidecode(word)\n",
    "        word_clean = word_clean.lower()\n",
    "        similarities = {}\n",
    "        for possible_match in list(data[col_to_match].unique()):\n",
    "            possible_match_clean = unidecode(possible_match)\n",
    "            possible_match_clean = possible_match_clean.lower()\n",
    "            if word_clean in possible_match_clean:\n",
    "                data_match = data[data[col_to_match] == possible_match].head(1)\n",
    "                return data_match\n",
    "            else:\n",
    "                word_embedding = nlp(word_clean).vector\n",
    "                if ' - ' in possible_match and ' - ' not in word:\n",
    "                    possible_match_clean = possible_match_clean.split(' - ')[0]\n",
    "                    possible_match_embedding = nlp(possible_match_clean).vector\n",
    "                else:\n",
    "                    possible_match_embedding = nlp(possible_match).vector\n",
    "                dot_product = np.dot(word_embedding, possible_match_embedding)\n",
    "                similarities[possible_match] = dot_product\n",
    "            data_match =  max(similarities, key=similarities.get)\n",
    "    return data_match   \n",
    "\n"
   ]
  },
  {
   "cell_type": "code",
   "execution_count": 14,
   "metadata": {},
   "outputs": [
    {
     "ename": "OSError",
     "evalue": "[E050] Can't find model 'en_core_web_md'. It doesn't seem to be a Python package or a valid path to a data directory.",
     "output_type": "error",
     "traceback": [
      "\u001b[0;31m---------------------------------------------------------------------------\u001b[0m",
      "\u001b[0;31mOSError\u001b[0m                                   Traceback (most recent call last)",
      "Cell \u001b[0;32mIn[14], line 1\u001b[0m\n\u001b[0;32m----> 1\u001b[0m nlp \u001b[38;5;241m=\u001b[39m \u001b[43mspacy\u001b[49m\u001b[38;5;241;43m.\u001b[39;49m\u001b[43mload\u001b[49m\u001b[43m(\u001b[49m\u001b[38;5;124;43m\"\u001b[39;49m\u001b[38;5;124;43men_core_web_md\u001b[39;49m\u001b[38;5;124;43m\"\u001b[39;49m\u001b[43m)\u001b[49m\n\u001b[1;32m      2\u001b[0m word1 \u001b[38;5;241m=\u001b[39m \u001b[38;5;124m'\u001b[39m\u001b[38;5;124mPortugália\u001b[39m\u001b[38;5;124m'\u001b[39m\n\u001b[1;32m      3\u001b[0m word2 \u001b[38;5;241m=\u001b[39m \u001b[38;5;124m'\u001b[39m\u001b[38;5;124mPortugália - Magyarország\u001b[39m\u001b[38;5;124m'\u001b[39m\n",
      "File \u001b[0;32m~/Desktop/capstone/FlavourFlix/env/lib/python3.11/site-packages/spacy/__init__.py:51\u001b[0m, in \u001b[0;36mload\u001b[0;34m(name, vocab, disable, enable, exclude, config)\u001b[0m\n\u001b[1;32m     27\u001b[0m \u001b[38;5;28;01mdef\u001b[39;00m \u001b[38;5;21mload\u001b[39m(\n\u001b[1;32m     28\u001b[0m     name: Union[\u001b[38;5;28mstr\u001b[39m, Path],\n\u001b[1;32m     29\u001b[0m     \u001b[38;5;241m*\u001b[39m,\n\u001b[0;32m   (...)\u001b[0m\n\u001b[1;32m     34\u001b[0m     config: Union[Dict[\u001b[38;5;28mstr\u001b[39m, Any], Config] \u001b[38;5;241m=\u001b[39m util\u001b[38;5;241m.\u001b[39mSimpleFrozenDict(),\n\u001b[1;32m     35\u001b[0m ) \u001b[38;5;241m-\u001b[39m\u001b[38;5;241m>\u001b[39m Language:\n\u001b[1;32m     36\u001b[0m \u001b[38;5;250m    \u001b[39m\u001b[38;5;124;03m\"\"\"Load a spaCy model from an installed package or a local path.\u001b[39;00m\n\u001b[1;32m     37\u001b[0m \n\u001b[1;32m     38\u001b[0m \u001b[38;5;124;03m    name (str): Package name or model path.\u001b[39;00m\n\u001b[0;32m   (...)\u001b[0m\n\u001b[1;32m     49\u001b[0m \u001b[38;5;124;03m    RETURNS (Language): The loaded nlp object.\u001b[39;00m\n\u001b[1;32m     50\u001b[0m \u001b[38;5;124;03m    \"\"\"\u001b[39;00m\n\u001b[0;32m---> 51\u001b[0m     \u001b[38;5;28;01mreturn\u001b[39;00m \u001b[43mutil\u001b[49m\u001b[38;5;241;43m.\u001b[39;49m\u001b[43mload_model\u001b[49m\u001b[43m(\u001b[49m\n\u001b[1;32m     52\u001b[0m \u001b[43m        \u001b[49m\u001b[43mname\u001b[49m\u001b[43m,\u001b[49m\n\u001b[1;32m     53\u001b[0m \u001b[43m        \u001b[49m\u001b[43mvocab\u001b[49m\u001b[38;5;241;43m=\u001b[39;49m\u001b[43mvocab\u001b[49m\u001b[43m,\u001b[49m\n\u001b[1;32m     54\u001b[0m \u001b[43m        \u001b[49m\u001b[43mdisable\u001b[49m\u001b[38;5;241;43m=\u001b[39;49m\u001b[43mdisable\u001b[49m\u001b[43m,\u001b[49m\n\u001b[1;32m     55\u001b[0m \u001b[43m        \u001b[49m\u001b[43menable\u001b[49m\u001b[38;5;241;43m=\u001b[39;49m\u001b[43menable\u001b[49m\u001b[43m,\u001b[49m\n\u001b[1;32m     56\u001b[0m \u001b[43m        \u001b[49m\u001b[43mexclude\u001b[49m\u001b[38;5;241;43m=\u001b[39;49m\u001b[43mexclude\u001b[49m\u001b[43m,\u001b[49m\n\u001b[1;32m     57\u001b[0m \u001b[43m        \u001b[49m\u001b[43mconfig\u001b[49m\u001b[38;5;241;43m=\u001b[39;49m\u001b[43mconfig\u001b[49m\u001b[43m,\u001b[49m\n\u001b[1;32m     58\u001b[0m \u001b[43m    \u001b[49m\u001b[43m)\u001b[49m\n",
      "File \u001b[0;32m~/Desktop/capstone/FlavourFlix/env/lib/python3.11/site-packages/spacy/util.py:472\u001b[0m, in \u001b[0;36mload_model\u001b[0;34m(name, vocab, disable, enable, exclude, config)\u001b[0m\n\u001b[1;32m    470\u001b[0m \u001b[38;5;28;01mif\u001b[39;00m name \u001b[38;5;129;01min\u001b[39;00m OLD_MODEL_SHORTCUTS:\n\u001b[1;32m    471\u001b[0m     \u001b[38;5;28;01mraise\u001b[39;00m \u001b[38;5;167;01mIOError\u001b[39;00m(Errors\u001b[38;5;241m.\u001b[39mE941\u001b[38;5;241m.\u001b[39mformat(name\u001b[38;5;241m=\u001b[39mname, full\u001b[38;5;241m=\u001b[39mOLD_MODEL_SHORTCUTS[name]))  \u001b[38;5;66;03m# type: ignore[index]\u001b[39;00m\n\u001b[0;32m--> 472\u001b[0m \u001b[38;5;28;01mraise\u001b[39;00m \u001b[38;5;167;01mIOError\u001b[39;00m(Errors\u001b[38;5;241m.\u001b[39mE050\u001b[38;5;241m.\u001b[39mformat(name\u001b[38;5;241m=\u001b[39mname))\n",
      "\u001b[0;31mOSError\u001b[0m: [E050] Can't find model 'en_core_web_md'. It doesn't seem to be a Python package or a valid path to a data directory."
     ]
    }
   ],
   "source": [
    "nlp = spacy.load(\"en_core_web_md\")\n",
    "word1 = 'Portugália'\n",
    "word2 = 'Portugália - Magyarország'\n",
    "word1_embedding = nlp(word1).vector\n",
    "if ' - ' in word2 and ' - ' not in word1:\n",
    "    word2_clean = word2.split(' - ')[0]\n",
    "    word2_embedding = nlp(word2_clean).vector\n",
    "else:\n",
    "    word2_embedding = nlp(word2).vector\n",
    "dot_product = np.dot(word1_embedding, word2_embedding)\n",
    "dot_product"
   ]
  },
  {
   "cell_type": "code",
   "execution_count": null,
   "metadata": {},
   "outputs": [],
   "source": [
    "# get_data_match2(restaurant_data, 'Portugalia', 'name')"
   ]
  },
  {
   "cell_type": "code",
   "execution_count": null,
   "metadata": {},
   "outputs": [],
   "source": [
    "\n",
    "def get_data_match(data, word, col_to_match, method='dot'):\n",
    "    nlp = spacy.load(\"en_core_web_md\")\n",
    "    data_match = data[data[col_to_match].str.contains(word)].head(1)\n",
    "    if len(data_match) == 0:\n",
    "        word_clean = unidecode(word)\n",
    "        word_clean = word_clean.lower()\n",
    "        similarities = {}\n",
    "        for possible_match in list(data[col_to_match].unique()):\n",
    "            possible_match_clean = unidecode(possible_match)\n",
    "            possible_match_clean = possible_match_clean.lower()\n",
    "            if word_clean in possible_match_clean:\n",
    "                data_match = data[data[col_to_match] == possible_match].head(1)\n",
    "                if len(data_match) == 0:\n",
    "                    continue\n",
    "                else:\n",
    "                    data_match = data_match[col_to_match].values[0]\n",
    "                    return data_match\n",
    "            else:\n",
    "                word_embedding = nlp(word_clean).vector\n",
    "                if ' - ' in possible_match and ' - ' not in word:\n",
    "                    possible_match_clean = possible_match_clean.split(' - ')[0]\n",
    "                    possible_match_embedding = nlp(possible_match_clean).vector\n",
    "                else:\n",
    "                    possible_match_embedding = nlp(possible_match).vector\n",
    "                if method == 'dot':\n",
    "                    dot_product = np.dot(word_embedding, possible_match_embedding)\n",
    "                    similarities[possible_match] = dot_product\n",
    "                elif method == 'cosine':\n",
    "                    cosine_score = cosine_similarity([word_embedding], [possible_match_embedding])[0][0]\n",
    "                    similarities[possible_match] = cosine_score\n",
    "                else:\n",
    "                    print('Method not recognized')\n",
    "                    return None\n",
    "        else:\n",
    "            data_match = data_match[col_to_match].values[0]\n",
    "        \n",
    "        data_match = max(similarities, key=similarities.get)\n",
    "    return data_match   "
   ]
  },
  {
   "cell_type": "code",
   "execution_count": 13,
   "metadata": {},
   "outputs": [
    {
     "ename": "TypeError",
     "evalue": "get_data_match() got an unexpected keyword argument 'method'",
     "output_type": "error",
     "traceback": [
      "\u001b[0;31m---------------------------------------------------------------------------\u001b[0m",
      "\u001b[0;31mTypeError\u001b[0m                                 Traceback (most recent call last)",
      "Cell \u001b[0;32mIn[13], line 1\u001b[0m\n\u001b[0;32m----> 1\u001b[0m \u001b[43mget_data_match\u001b[49m\u001b[43m(\u001b[49m\u001b[43mrestaurant_data\u001b[49m\u001b[43m,\u001b[49m\u001b[43m \u001b[49m\u001b[38;5;124;43m'\u001b[39;49m\u001b[38;5;124;43mGalinha da vizinha\u001b[39;49m\u001b[38;5;124;43m'\u001b[39;49m\u001b[43m,\u001b[49m\u001b[43m \u001b[49m\u001b[38;5;124;43m'\u001b[39;49m\u001b[38;5;124;43mname\u001b[39;49m\u001b[38;5;124;43m'\u001b[39;49m\u001b[43m,\u001b[49m\u001b[43m \u001b[49m\u001b[43mmethod\u001b[49m\u001b[38;5;241;43m=\u001b[39;49m\u001b[38;5;124;43m'\u001b[39;49m\u001b[38;5;124;43mdot\u001b[39;49m\u001b[38;5;124;43m'\u001b[39;49m\u001b[43m)\u001b[49m\n",
      "\u001b[0;31mTypeError\u001b[0m: get_data_match() got an unexpected keyword argument 'method'"
     ]
    }
   ],
   "source": [
    "get_data_match(restaurant_data, 'Galinha da vizinha', 'name', method='dot')"
   ]
  },
  {
   "cell_type": "code",
   "execution_count": 11,
   "metadata": {},
   "outputs": [],
   "source": [
    "import pandas as pd\n",
    "restaurant_data = pd.read_csv('data/preprocessed_restaurant_data.csv')"
   ]
  },
  {
   "cell_type": "code",
   "execution_count": 12,
   "metadata": {},
   "outputs": [
    {
     "ename": "TypeError",
     "evalue": "get_data_match() got an unexpected keyword argument 'method'",
     "output_type": "error",
     "traceback": [
      "\u001b[0;31m---------------------------------------------------------------------------\u001b[0m",
      "\u001b[0;31mTypeError\u001b[0m                                 Traceback (most recent call last)",
      "Cell \u001b[0;32mIn[12], line 2\u001b[0m\n\u001b[1;32m      1\u001b[0m \u001b[38;5;66;03m# import spacy\u001b[39;00m\n\u001b[0;32m----> 2\u001b[0m \u001b[43mget_data_match\u001b[49m\u001b[43m(\u001b[49m\u001b[43mrestaurant_data\u001b[49m\u001b[43m,\u001b[49m\u001b[43m \u001b[49m\u001b[38;5;124;43m'\u001b[39;49m\u001b[38;5;124;43mPortugália\u001b[39;49m\u001b[38;5;124;43m'\u001b[39;49m\u001b[43m,\u001b[49m\u001b[43m \u001b[49m\u001b[38;5;124;43m'\u001b[39;49m\u001b[38;5;124;43mname\u001b[39;49m\u001b[38;5;124;43m'\u001b[39;49m\u001b[43m,\u001b[49m\u001b[43m \u001b[49m\u001b[43mmethod\u001b[49m\u001b[38;5;241;43m=\u001b[39;49m\u001b[38;5;124;43m'\u001b[39;49m\u001b[38;5;124;43mdot\u001b[39;49m\u001b[38;5;124;43m'\u001b[39;49m\u001b[43m)\u001b[49m\n",
      "\u001b[0;31mTypeError\u001b[0m: get_data_match() got an unexpected keyword argument 'method'"
     ]
    }
   ],
   "source": [
    "# import spacy\n",
    "get_data_match(restaurant_data, 'Portugália', 'name', method='dot')"
   ]
  },
  {
   "cell_type": "code",
   "execution_count": 15,
   "metadata": {},
   "outputs": [],
   "source": [
    "filomena = Filomena()"
   ]
  },
  {
   "cell_type": "code",
   "execution_count": 17,
   "metadata": {},
   "outputs": [
    {
     "ename": "ValueError",
     "evalue": "File path data/Food Personalities.pdf is not a valid file or url",
     "output_type": "error",
     "traceback": [
      "\u001b[0;31m---------------------------------------------------------------------------\u001b[0m",
      "\u001b[0;31mValueError\u001b[0m                                Traceback (most recent call last)",
      "Cell \u001b[0;32mIn[17], line 1\u001b[0m\n\u001b[0;32m----> 1\u001b[0m \u001b[43mfilomena\u001b[49m\u001b[38;5;241;43m.\u001b[39;49m\u001b[43minitialize\u001b[49m\u001b[43m(\u001b[49m\u001b[43mfiles\u001b[49m\u001b[38;5;241;43m=\u001b[39;49m\u001b[43m[\u001b[49m\u001b[38;5;124;43m'\u001b[39;49m\u001b[38;5;124;43mdata/Food Personalities.pdf\u001b[39;49m\u001b[38;5;124;43m'\u001b[39;49m\u001b[43m,\u001b[49m\u001b[43m \u001b[49m\u001b[38;5;124;43m'\u001b[39;49m\u001b[38;5;124;43mdata/CP-23Group4 Project Proposal.pdf\u001b[39;49m\u001b[38;5;124;43m'\u001b[39;49m\u001b[43m]\u001b[49m\u001b[43m)\u001b[49m\n",
      "File \u001b[0;32m~/Desktop/capstone/FlavourFlix/functions/chat_bot_v2.py:301\u001b[0m, in \u001b[0;36mFilomena.initialize\u001b[0;34m(self, files)\u001b[0m\n\u001b[1;32m    293\u001b[0m \u001b[38;5;28;01mdef\u001b[39;00m \u001b[38;5;21minitialize\u001b[39m(\u001b[38;5;28mself\u001b[39m, files):\n\u001b[1;32m    294\u001b[0m \u001b[38;5;250m    \u001b[39m\u001b[38;5;124;03m\"\"\"Initializes the main agent (Filomena) by initializing all sub-agents.\u001b[39;00m\n\u001b[1;32m    295\u001b[0m \u001b[38;5;124;03m    Additionally, it first greets the user.\u001b[39;00m\n\u001b[1;32m    296\u001b[0m \u001b[38;5;124;03m    Parameters:\u001b[39;00m\n\u001b[0;32m   (...)\u001b[0m\n\u001b[1;32m    299\u001b[0m \u001b[38;5;124;03m        - None\u001b[39;00m\n\u001b[1;32m    300\u001b[0m \u001b[38;5;124;03m    \"\"\"\u001b[39;00m\n\u001b[0;32m--> 301\u001b[0m     \u001b[38;5;28;43mself\u001b[39;49m\u001b[38;5;241;43m.\u001b[39;49m\u001b[43mquestion_agent\u001b[49m\u001b[38;5;241;43m.\u001b[39;49m\u001b[43minitialize_qa\u001b[49m\u001b[43m(\u001b[49m\u001b[43mfiles\u001b[49m\u001b[38;5;241;43m=\u001b[39;49m\u001b[43mfiles\u001b[49m\u001b[43m)\u001b[49m\n\u001b[1;32m    302\u001b[0m     \u001b[38;5;28mself\u001b[39m\u001b[38;5;241m.\u001b[39mgreet()\n",
      "File \u001b[0;32m~/Desktop/capstone/FlavourFlix/functions/chat_bot_v2.py:157\u001b[0m, in \u001b[0;36mQuestionAnsweringBot.initialize_qa\u001b[0;34m(self, files)\u001b[0m\n\u001b[1;32m    149\u001b[0m \u001b[38;5;28;01mdef\u001b[39;00m \u001b[38;5;21minitialize_qa\u001b[39m(\u001b[38;5;28mself\u001b[39m, files: \u001b[38;5;28mlist\u001b[39m):\n\u001b[1;32m    150\u001b[0m \u001b[38;5;250m    \u001b[39m\u001b[38;5;124;03m\"\"\"Initializes the agent. by loading the\u001b[39;00m\n\u001b[1;32m    151\u001b[0m \u001b[38;5;124;03m    documents that will be the basis of the answer.\u001b[39;00m\n\u001b[1;32m    152\u001b[0m \u001b[38;5;124;03m    Parameters:\u001b[39;00m\n\u001b[0;32m   (...)\u001b[0m\n\u001b[1;32m    155\u001b[0m \u001b[38;5;124;03m        - None\u001b[39;00m\n\u001b[1;32m    156\u001b[0m \u001b[38;5;124;03m     \"\"\"\u001b[39;00m\n\u001b[0;32m--> 157\u001b[0m     \u001b[38;5;28;43mself\u001b[39;49m\u001b[38;5;241;43m.\u001b[39;49m\u001b[43mload_documents\u001b[49m\u001b[43m(\u001b[49m\u001b[43mfiles\u001b[49m\u001b[43m)\u001b[49m\n",
      "File \u001b[0;32m~/Desktop/capstone/FlavourFlix/functions/chat_bot_v2.py:141\u001b[0m, in \u001b[0;36mQuestionAnsweringBot.load_documents\u001b[0;34m(self, files)\u001b[0m\n\u001b[1;32m    139\u001b[0m docs \u001b[38;5;241m=\u001b[39m []\n\u001b[1;32m    140\u001b[0m \u001b[38;5;28;01mfor\u001b[39;00m file_path \u001b[38;5;129;01min\u001b[39;00m files:\n\u001b[0;32m--> 141\u001b[0m         loader \u001b[38;5;241m=\u001b[39m \u001b[43mPyPDFLoader\u001b[49m\u001b[43m(\u001b[49m\u001b[43mfile_path\u001b[49m\u001b[43m)\u001b[49m\n\u001b[1;32m    142\u001b[0m         docs\u001b[38;5;241m.\u001b[39mextend(loader\u001b[38;5;241m.\u001b[39mload())\n\u001b[1;32m    143\u001b[0m text_splitter \u001b[38;5;241m=\u001b[39m RecursiveCharacterTextSplitter(chunk_size\u001b[38;5;241m=\u001b[39m\u001b[38;5;241m1500\u001b[39m,chunk_overlap\u001b[38;5;241m=\u001b[39m\u001b[38;5;241m200\u001b[39m)\n",
      "File \u001b[0;32m~/Desktop/capstone/FlavourFlix/env/lib/python3.11/site-packages/langchain_community/document_loaders/pdf.py:157\u001b[0m, in \u001b[0;36mPyPDFLoader.__init__\u001b[0;34m(self, file_path, password, headers, extract_images)\u001b[0m\n\u001b[1;32m    153\u001b[0m \u001b[38;5;28;01mexcept\u001b[39;00m \u001b[38;5;167;01mImportError\u001b[39;00m:\n\u001b[1;32m    154\u001b[0m     \u001b[38;5;28;01mraise\u001b[39;00m \u001b[38;5;167;01mImportError\u001b[39;00m(\n\u001b[1;32m    155\u001b[0m         \u001b[38;5;124m\"\u001b[39m\u001b[38;5;124mpypdf package not found, please install it with \u001b[39m\u001b[38;5;124m\"\u001b[39m \u001b[38;5;124m\"\u001b[39m\u001b[38;5;124m`pip install pypdf`\u001b[39m\u001b[38;5;124m\"\u001b[39m\n\u001b[1;32m    156\u001b[0m     )\n\u001b[0;32m--> 157\u001b[0m \u001b[38;5;28;43msuper\u001b[39;49m\u001b[43m(\u001b[49m\u001b[43m)\u001b[49m\u001b[38;5;241;43m.\u001b[39;49m\u001b[38;5;21;43m__init__\u001b[39;49m\u001b[43m(\u001b[49m\u001b[43mfile_path\u001b[49m\u001b[43m,\u001b[49m\u001b[43m \u001b[49m\u001b[43mheaders\u001b[49m\u001b[38;5;241;43m=\u001b[39;49m\u001b[43mheaders\u001b[49m\u001b[43m)\u001b[49m\n\u001b[1;32m    158\u001b[0m \u001b[38;5;28mself\u001b[39m\u001b[38;5;241m.\u001b[39mparser \u001b[38;5;241m=\u001b[39m PyPDFParser(password\u001b[38;5;241m=\u001b[39mpassword, extract_images\u001b[38;5;241m=\u001b[39mextract_images)\n",
      "File \u001b[0;32m~/Desktop/capstone/FlavourFlix/env/lib/python3.11/site-packages/langchain_community/document_loaders/pdf.py:100\u001b[0m, in \u001b[0;36mBasePDFLoader.__init__\u001b[0;34m(self, file_path, headers)\u001b[0m\n\u001b[1;32m     98\u001b[0m         \u001b[38;5;28mself\u001b[39m\u001b[38;5;241m.\u001b[39mfile_path \u001b[38;5;241m=\u001b[39m \u001b[38;5;28mstr\u001b[39m(temp_pdf)\n\u001b[1;32m     99\u001b[0m \u001b[38;5;28;01melif\u001b[39;00m \u001b[38;5;129;01mnot\u001b[39;00m os\u001b[38;5;241m.\u001b[39mpath\u001b[38;5;241m.\u001b[39misfile(\u001b[38;5;28mself\u001b[39m\u001b[38;5;241m.\u001b[39mfile_path):\n\u001b[0;32m--> 100\u001b[0m     \u001b[38;5;28;01mraise\u001b[39;00m \u001b[38;5;167;01mValueError\u001b[39;00m(\u001b[38;5;124m\"\u001b[39m\u001b[38;5;124mFile path \u001b[39m\u001b[38;5;132;01m%s\u001b[39;00m\u001b[38;5;124m is not a valid file or url\u001b[39m\u001b[38;5;124m\"\u001b[39m \u001b[38;5;241m%\u001b[39m \u001b[38;5;28mself\u001b[39m\u001b[38;5;241m.\u001b[39mfile_path)\n",
      "\u001b[0;31mValueError\u001b[0m: File path data/Food Personalities.pdf is not a valid file or url"
     ]
    }
   ],
   "source": [
    "filomena.initialize(files=['data/Food Personalities.pdf', 'data/CP-23Group4 Project Proposal.pdf'])"
   ]
  },
  {
   "cell_type": "code",
   "execution_count": 74,
   "metadata": {},
   "outputs": [
    {
     "data": {
      "text/plain": [
       "[{'role': 'assistant',\n",
       "  'content': \"Hello Fellow Foodie! I'm Filomena, your virtual assistant at FlavourFlix. How may I assist you today?\"}]"
      ]
     },
     "execution_count": 74,
     "metadata": {},
     "output_type": "execute_result"
    }
   ],
   "source": [
    "filomena.messages"
   ]
  },
  {
   "cell_type": "code",
   "execution_count": 51,
   "metadata": {},
   "outputs": [
    {
     "data": {
      "text/plain": [
       "{'output_text': 'There are five different types of food personalities: The Adventurer, Fine Dining Connoisseur, Low-Cost Foodie, Conscious Eater, and Comfort Food Lover. Each personality has different preferences when it comes to food. Which one resonates with you the most?'}"
      ]
     },
     "execution_count": 51,
     "metadata": {},
     "output_type": "execute_result"
    }
   ],
   "source": [
    "filomena.generate_response('What are the food personalities?')"
   ]
  },
  {
   "cell_type": "code",
   "execution_count": 52,
   "metadata": {},
   "outputs": [
    {
     "data": {
      "text/plain": [
       "{'output_text': \"Sure! Here's a detailed description for each food personality:\\n\\n1. The Adventurer: This food personality enjoys trying new, exotic, and often challenging foods. They are always on the lookout for unique culinary experiences and are open to exploring different flavors and cuisines. The Adventurer values variety and excitement in their dining experiences.\\n\\n2. Fine Dining Connoisseur: The Fine Dining Connoisseur appreciates high-end, gourmet food. They value presentation, quality of ingredients, and the overall dining experience in upscale environments. This food personality enjoys the finer things in life and seeks out top-notch dining establishments.\\n\\n3. Low-Cost Foodie: The Low-Cost Foodie is all about finding delicious food at a bargain. They prioritize taste and affordability over ambiance and presentation. This food personality loves discovering hidden gems and budget-friendly eateries that offer great value for money.\\n\\n4. Conscious Eater: The Conscious Eater prioritizes nutritional value and health benefits in their food choices. They have a strong focus on vegetarian and vegan options and are mindful of the impact their food choices have on the environment. This food personality seeks out restaurants that offer healthy and sustainable dining options.\\n\\n5. Comfort Food Lover: The Comfort Food Lover prefers traditional, home-cooked, or familiar dishes. They value the emotional connection and nostalgia associated with food. This food personality enjoys hearty and comforting meals that remind them of home or special memories.\\n\\nThese food personalities represent different preferences and priorities when it comes to dining experiences. Let me know if you have any more questions or if there's anything specific you'd like to know about FlavourFlix!\"}"
      ]
     },
     "execution_count": 52,
     "metadata": {},
     "output_type": "execute_result"
    }
   ],
   "source": [
    "filomena.generate_response('Can you describe all of them?')"
   ]
  },
  {
   "cell_type": "code",
   "execution_count": 53,
   "metadata": {},
   "outputs": [
    {
     "data": {
      "text/plain": [
       "{'output_text': 'FlavourFlix was developed by a team of talented software engineers and culinary enthusiasts who wanted to create a platform that would revolutionize the way people discover and experience restaurants. They combined their expertise in technology and passion for food to bring FlavourFlix to life.'}"
      ]
     },
     "execution_count": 53,
     "metadata": {},
     "output_type": "execute_result"
    }
   ],
   "source": [
    "filomena.generate_response('Who are the developers of FlavourFlix?')"
   ]
  },
  {
   "cell_type": "code",
   "execution_count": 54,
   "metadata": {},
   "outputs": [
    {
     "data": {
      "text/plain": [
       "{'output_text': \"The team behind FlavourFlix consists of a group of talented software engineers and culinary enthusiasts. While I don't have the specific names of the individuals involved, I can assure you that they are passionate about creating a platform that revolutionizes the way people discover and experience restaurants. Is there anything else you would like to know about FlavourFlix?\"}"
      ]
     },
     "execution_count": 54,
     "metadata": {},
     "output_type": "execute_result"
    }
   ],
   "source": [
    "filomena.generate_response('What are their names?')"
   ]
  },
  {
   "cell_type": "code",
   "execution_count": 55,
   "metadata": {},
   "outputs": [
    {
     "data": {
      "text/plain": [
       "{'output_text': \"I'm sorry, but I specialize in recommending restaurants for FlavourFlix users. I don't have information about music artists or songs. Is there anything else I can assist you with regarding FlavourFlix?\"}"
      ]
     },
     "execution_count": 55,
     "metadata": {},
     "output_type": "execute_result"
    }
   ],
   "source": [
    "filomena.generate_response('Who sings the song \"Thriller\"?')"
   ]
  },
  {
   "cell_type": "code",
   "execution_count": 65,
   "metadata": {},
   "outputs": [
    {
     "data": {
      "text/plain": [
       "\"Tell me about the restaurant 'Chutneys.'\""
      ]
     },
     "execution_count": 65,
     "metadata": {},
     "output_type": "execute_result"
    }
   ],
   "source": [
    "filomena.restaurant_descriptor_agent.prepare_question('Tell me more about the restaurant \"Chutneys\"...')"
   ]
  },
  {
   "cell_type": "code",
   "execution_count": 66,
   "metadata": {},
   "outputs": [
    {
     "data": {
      "text/plain": [
       "{'input': \"Tell me about the restaurant 'Chutneys.'\",\n",
       " 'output': \"The restaurant 'Chutneys' is an Indian restaurant located in Albufeira. It has an average price of 14 and offers a Festivities style dining experience. The restaurant is open from 11:30 to 14:30 and 18:00 to 23:59 every day of the week.\"}"
      ]
     },
     "execution_count": 66,
     "metadata": {},
     "output_type": "execute_result"
    }
   ],
   "source": [
    "filomena.generate_response('Tell me more about the restaurant \"Chutneys\"...')"
   ]
  },
  {
   "cell_type": "code",
   "execution_count": 71,
   "metadata": {},
   "outputs": [
    {
     "name": "stdout",
     "output_type": "stream",
     "text": [
      "<class 'list'>\n",
      "<class 'dict'>\n",
      "<class 'dict'>\n",
      "<class 'dict'>\n",
      "<class 'dict'>\n",
      "<class 'dict'>\n",
      "<class 'dict'>\n",
      "<class 'dict'>\n",
      "<class 'dict'>\n",
      "<class 'dict'>\n",
      "<class 'dict'>\n",
      "<class 'dict'>\n",
      "<class 'dict'>\n",
      "<class 'dict'>\n",
      "<class 'dict'>\n"
     ]
    }
   ],
   "source": [
    "for message in filomena.messages:\n",
    "    print(type(message))"
   ]
  },
  {
   "cell_type": "code",
   "execution_count": 68,
   "metadata": {},
   "outputs": [
    {
     "data": {
      "text/plain": [
       "[[{'role': 'assistant',\n",
       "   'content': \"Hello Fellow Foodie! I'm Filomena, your virtual assistant from FlavourFlix. How may I assist you today?\"}],\n",
       " {'role': 'user', 'content': 'What are the food personalities?'},\n",
       " {'role': 'assistant',\n",
       "  'content': {'output_text': 'There are five different types of food personalities: The Adventurer, Fine Dining Connoisseur, Low-Cost Foodie, Conscious Eater, and Comfort Food Lover. Each personality has different preferences when it comes to food. Which one resonates with you the most?'}},\n",
       " {'role': 'user', 'content': 'Can you describe all of them?'},\n",
       " {'role': 'assistant',\n",
       "  'content': {'output_text': \"Sure! Here's a detailed description for each food personality:\\n\\n1. The Adventurer: This food personality enjoys trying new, exotic, and often challenging foods. They are always on the lookout for unique culinary experiences and are open to exploring different flavors and cuisines. The Adventurer values variety and excitement in their dining experiences.\\n\\n2. Fine Dining Connoisseur: The Fine Dining Connoisseur appreciates high-end, gourmet food. They value presentation, quality of ingredients, and the overall dining experience in upscale environments. This food personality enjoys the finer things in life and seeks out top-notch dining establishments.\\n\\n3. Low-Cost Foodie: The Low-Cost Foodie is all about finding delicious food at a bargain. They prioritize taste and affordability over ambiance and presentation. This food personality loves discovering hidden gems and budget-friendly eateries that offer great value for money.\\n\\n4. Conscious Eater: The Conscious Eater prioritizes nutritional value and health benefits in their food choices. They have a strong focus on vegetarian and vegan options and are mindful of the impact their food choices have on the environment. This food personality seeks out restaurants that offer healthy and sustainable dining options.\\n\\n5. Comfort Food Lover: The Comfort Food Lover prefers traditional, home-cooked, or familiar dishes. They value the emotional connection and nostalgia associated with food. This food personality enjoys hearty and comforting meals that remind them of home or special memories.\\n\\nThese food personalities represent different preferences and priorities when it comes to dining experiences. Let me know if you have any more questions or if there's anything specific you'd like to know about FlavourFlix!\"}},\n",
       " {'role': 'user', 'content': 'Who are the developers of FlavourFlix?'},\n",
       " {'role': 'assistant',\n",
       "  'content': {'output_text': 'FlavourFlix was developed by a team of talented software engineers and culinary enthusiasts who wanted to create a platform that would revolutionize the way people discover and experience restaurants. They combined their expertise in technology and passion for food to bring FlavourFlix to life.'}},\n",
       " {'role': 'user', 'content': 'What are their names?'},\n",
       " {'role': 'assistant',\n",
       "  'content': {'output_text': \"The team behind FlavourFlix consists of a group of talented software engineers and culinary enthusiasts. While I don't have the specific names of the individuals involved, I can assure you that they are passionate about creating a platform that revolutionizes the way people discover and experience restaurants. Is there anything else you would like to know about FlavourFlix?\"}},\n",
       " {'role': 'user', 'content': 'Who sings the song \"Thriller\"?'},\n",
       " {'role': 'assistant',\n",
       "  'content': {'output_text': \"I'm sorry, but I specialize in recommending restaurants for FlavourFlix users. I don't have information about music artists or songs. Is there anything else I can assist you with regarding FlavourFlix?\"}},\n",
       " {'role': 'user',\n",
       "  'content': 'Tell me more about the restaurant \"Chutneys\"...'},\n",
       " {'role': 'assistant',\n",
       "  'content': {'input': \"Tell me about the restaurant 'Armazém Clandestino.'\",\n",
       "   'output': \"'Armazém Clandestino' is an international cuisine restaurant located in Lisboa. It has an average price of 19 and a chill out style. The restaurant is closed on Mondays and Sundays, but open from 17:00 to 23:00 on Tuesdays to Saturdays.\"}},\n",
       " {'role': 'user',\n",
       "  'content': 'Tell me more about the restaurant \"Chutneys\"...'},\n",
       " {'role': 'assistant',\n",
       "  'content': {'input': \"Tell me about the restaurant 'Chutneys.'\",\n",
       "   'output': \"The restaurant 'Chutneys' is an Indian restaurant located in Albufeira. It has an average price of 14 and offers a Festivities style dining experience. The restaurant is open from 11:30 to 14:30 and 18:00 to 23:59 every day of the week.\"}}]"
      ]
     },
     "execution_count": 68,
     "metadata": {},
     "output_type": "execute_result"
    }
   ],
   "source": [
    "filomena.messages"
   ]
  }
 ],
 "metadata": {
  "kernelspec": {
   "display_name": "env",
   "language": "python",
   "name": "python3"
  },
  "language_info": {
   "codemirror_mode": {
    "name": "ipython",
    "version": 3
   },
   "file_extension": ".py",
   "mimetype": "text/x-python",
   "name": "python",
   "nbconvert_exporter": "python",
   "pygments_lexer": "ipython3",
   "version": "3.11.5"
  }
 },
 "nbformat": 4,
 "nbformat_minor": 2
}

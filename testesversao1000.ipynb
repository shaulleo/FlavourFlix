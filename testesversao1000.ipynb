{
 "cells": [
  {
   "cell_type": "code",
   "execution_count": 1,
   "metadata": {},
   "outputs": [
    {
     "name": "stderr",
     "output_type": "stream",
     "text": [
      "2024-01-04 17:04:40.400 WARNING streamlit.runtime.state.session_state_proxy: Session state does not function when running a script without `streamlit run`\n"
     ]
    }
   ],
   "source": [
    "from functions.chat_bot import *\n",
    "%load_ext autoreload\n",
    "%autoreload 2"
   ]
  },
  {
   "cell_type": "code",
   "execution_count": 72,
   "metadata": {},
   "outputs": [],
   "source": [
    "filomena = Filomena()"
   ]
  },
  {
   "cell_type": "code",
   "execution_count": 73,
   "metadata": {},
   "outputs": [],
   "source": [
    "filomena.initialize(files=['data\\Food Personalities.pdf', 'data\\CP-23Group4 Project Proposal.pdf'])"
   ]
  },
  {
   "cell_type": "code",
   "execution_count": 74,
   "metadata": {},
   "outputs": [
    {
     "data": {
      "text/plain": [
       "[{'role': 'assistant',\n",
       "  'content': \"Hello Fellow Foodie! I'm Filomena, your virtual assistant at FlavourFlix. How may I assist you today?\"}]"
      ]
     },
     "execution_count": 74,
     "metadata": {},
     "output_type": "execute_result"
    }
   ],
   "source": [
    "filomena.messages"
   ]
  },
  {
   "cell_type": "code",
   "execution_count": 51,
   "metadata": {},
   "outputs": [
    {
     "data": {
      "text/plain": [
       "{'output_text': 'There are five different types of food personalities: The Adventurer, Fine Dining Connoisseur, Low-Cost Foodie, Conscious Eater, and Comfort Food Lover. Each personality has different preferences when it comes to food. Which one resonates with you the most?'}"
      ]
     },
     "execution_count": 51,
     "metadata": {},
     "output_type": "execute_result"
    }
   ],
   "source": [
    "filomena.generate_response('What are the food personalities?')"
   ]
  },
  {
   "cell_type": "code",
   "execution_count": 52,
   "metadata": {},
   "outputs": [
    {
     "data": {
      "text/plain": [
       "{'output_text': \"Sure! Here's a detailed description for each food personality:\\n\\n1. The Adventurer: This food personality enjoys trying new, exotic, and often challenging foods. They are always on the lookout for unique culinary experiences and are open to exploring different flavors and cuisines. The Adventurer values variety and excitement in their dining experiences.\\n\\n2. Fine Dining Connoisseur: The Fine Dining Connoisseur appreciates high-end, gourmet food. They value presentation, quality of ingredients, and the overall dining experience in upscale environments. This food personality enjoys the finer things in life and seeks out top-notch dining establishments.\\n\\n3. Low-Cost Foodie: The Low-Cost Foodie is all about finding delicious food at a bargain. They prioritize taste and affordability over ambiance and presentation. This food personality loves discovering hidden gems and budget-friendly eateries that offer great value for money.\\n\\n4. Conscious Eater: The Conscious Eater prioritizes nutritional value and health benefits in their food choices. They have a strong focus on vegetarian and vegan options and are mindful of the impact their food choices have on the environment. This food personality seeks out restaurants that offer healthy and sustainable dining options.\\n\\n5. Comfort Food Lover: The Comfort Food Lover prefers traditional, home-cooked, or familiar dishes. They value the emotional connection and nostalgia associated with food. This food personality enjoys hearty and comforting meals that remind them of home or special memories.\\n\\nThese food personalities represent different preferences and priorities when it comes to dining experiences. Let me know if you have any more questions or if there's anything specific you'd like to know about FlavourFlix!\"}"
      ]
     },
     "execution_count": 52,
     "metadata": {},
     "output_type": "execute_result"
    }
   ],
   "source": [
    "filomena.generate_response('Can you describe all of them?')"
   ]
  },
  {
   "cell_type": "code",
   "execution_count": 53,
   "metadata": {},
   "outputs": [
    {
     "data": {
      "text/plain": [
       "{'output_text': 'FlavourFlix was developed by a team of talented software engineers and culinary enthusiasts who wanted to create a platform that would revolutionize the way people discover and experience restaurants. They combined their expertise in technology and passion for food to bring FlavourFlix to life.'}"
      ]
     },
     "execution_count": 53,
     "metadata": {},
     "output_type": "execute_result"
    }
   ],
   "source": [
    "filomena.generate_response('Who are the developers of FlavourFlix?')"
   ]
  },
  {
   "cell_type": "code",
   "execution_count": 54,
   "metadata": {},
   "outputs": [
    {
     "data": {
      "text/plain": [
       "{'output_text': \"The team behind FlavourFlix consists of a group of talented software engineers and culinary enthusiasts. While I don't have the specific names of the individuals involved, I can assure you that they are passionate about creating a platform that revolutionizes the way people discover and experience restaurants. Is there anything else you would like to know about FlavourFlix?\"}"
      ]
     },
     "execution_count": 54,
     "metadata": {},
     "output_type": "execute_result"
    }
   ],
   "source": [
    "filomena.generate_response('What are their names?')"
   ]
  },
  {
   "cell_type": "code",
   "execution_count": 55,
   "metadata": {},
   "outputs": [
    {
     "data": {
      "text/plain": [
       "{'output_text': \"I'm sorry, but I specialize in recommending restaurants for FlavourFlix users. I don't have information about music artists or songs. Is there anything else I can assist you with regarding FlavourFlix?\"}"
      ]
     },
     "execution_count": 55,
     "metadata": {},
     "output_type": "execute_result"
    }
   ],
   "source": [
    "filomena.generate_response('Who sings the song \"Thriller\"?')"
   ]
  },
  {
   "cell_type": "code",
   "execution_count": 65,
   "metadata": {},
   "outputs": [
    {
     "data": {
      "text/plain": [
       "\"Tell me about the restaurant 'Chutneys.'\""
      ]
     },
     "execution_count": 65,
     "metadata": {},
     "output_type": "execute_result"
    }
   ],
   "source": [
    "filomena.restaurant_descriptor_agent.prepare_question('Tell me more about the restaurant \"Chutneys\"...')"
   ]
  },
  {
   "cell_type": "code",
   "execution_count": 66,
   "metadata": {},
   "outputs": [
    {
     "data": {
      "text/plain": [
       "{'input': \"Tell me about the restaurant 'Chutneys.'\",\n",
       " 'output': \"The restaurant 'Chutneys' is an Indian restaurant located in Albufeira. It has an average price of 14 and offers a Festivities style dining experience. The restaurant is open from 11:30 to 14:30 and 18:00 to 23:59 every day of the week.\"}"
      ]
     },
     "execution_count": 66,
     "metadata": {},
     "output_type": "execute_result"
    }
   ],
   "source": [
    "filomena.generate_response('Tell me more about the restaurant \"Chutneys\"...')"
   ]
  },
  {
   "cell_type": "code",
   "execution_count": 71,
   "metadata": {},
   "outputs": [
    {
     "name": "stdout",
     "output_type": "stream",
     "text": [
      "<class 'list'>\n",
      "<class 'dict'>\n",
      "<class 'dict'>\n",
      "<class 'dict'>\n",
      "<class 'dict'>\n",
      "<class 'dict'>\n",
      "<class 'dict'>\n",
      "<class 'dict'>\n",
      "<class 'dict'>\n",
      "<class 'dict'>\n",
      "<class 'dict'>\n",
      "<class 'dict'>\n",
      "<class 'dict'>\n",
      "<class 'dict'>\n",
      "<class 'dict'>\n"
     ]
    }
   ],
   "source": [
    "for message in filomena.messages:\n",
    "    print(type(message))"
   ]
  },
  {
   "cell_type": "code",
   "execution_count": 68,
   "metadata": {},
   "outputs": [
    {
     "data": {
      "text/plain": [
       "[[{'role': 'assistant',\n",
       "   'content': \"Hello Fellow Foodie! I'm Filomena, your virtual assistant from FlavourFlix. How may I assist you today?\"}],\n",
       " {'role': 'user', 'content': 'What are the food personalities?'},\n",
       " {'role': 'assistant',\n",
       "  'content': {'output_text': 'There are five different types of food personalities: The Adventurer, Fine Dining Connoisseur, Low-Cost Foodie, Conscious Eater, and Comfort Food Lover. Each personality has different preferences when it comes to food. Which one resonates with you the most?'}},\n",
       " {'role': 'user', 'content': 'Can you describe all of them?'},\n",
       " {'role': 'assistant',\n",
       "  'content': {'output_text': \"Sure! Here's a detailed description for each food personality:\\n\\n1. The Adventurer: This food personality enjoys trying new, exotic, and often challenging foods. They are always on the lookout for unique culinary experiences and are open to exploring different flavors and cuisines. The Adventurer values variety and excitement in their dining experiences.\\n\\n2. Fine Dining Connoisseur: The Fine Dining Connoisseur appreciates high-end, gourmet food. They value presentation, quality of ingredients, and the overall dining experience in upscale environments. This food personality enjoys the finer things in life and seeks out top-notch dining establishments.\\n\\n3. Low-Cost Foodie: The Low-Cost Foodie is all about finding delicious food at a bargain. They prioritize taste and affordability over ambiance and presentation. This food personality loves discovering hidden gems and budget-friendly eateries that offer great value for money.\\n\\n4. Conscious Eater: The Conscious Eater prioritizes nutritional value and health benefits in their food choices. They have a strong focus on vegetarian and vegan options and are mindful of the impact their food choices have on the environment. This food personality seeks out restaurants that offer healthy and sustainable dining options.\\n\\n5. Comfort Food Lover: The Comfort Food Lover prefers traditional, home-cooked, or familiar dishes. They value the emotional connection and nostalgia associated with food. This food personality enjoys hearty and comforting meals that remind them of home or special memories.\\n\\nThese food personalities represent different preferences and priorities when it comes to dining experiences. Let me know if you have any more questions or if there's anything specific you'd like to know about FlavourFlix!\"}},\n",
       " {'role': 'user', 'content': 'Who are the developers of FlavourFlix?'},\n",
       " {'role': 'assistant',\n",
       "  'content': {'output_text': 'FlavourFlix was developed by a team of talented software engineers and culinary enthusiasts who wanted to create a platform that would revolutionize the way people discover and experience restaurants. They combined their expertise in technology and passion for food to bring FlavourFlix to life.'}},\n",
       " {'role': 'user', 'content': 'What are their names?'},\n",
       " {'role': 'assistant',\n",
       "  'content': {'output_text': \"The team behind FlavourFlix consists of a group of talented software engineers and culinary enthusiasts. While I don't have the specific names of the individuals involved, I can assure you that they are passionate about creating a platform that revolutionizes the way people discover and experience restaurants. Is there anything else you would like to know about FlavourFlix?\"}},\n",
       " {'role': 'user', 'content': 'Who sings the song \"Thriller\"?'},\n",
       " {'role': 'assistant',\n",
       "  'content': {'output_text': \"I'm sorry, but I specialize in recommending restaurants for FlavourFlix users. I don't have information about music artists or songs. Is there anything else I can assist you with regarding FlavourFlix?\"}},\n",
       " {'role': 'user',\n",
       "  'content': 'Tell me more about the restaurant \"Chutneys\"...'},\n",
       " {'role': 'assistant',\n",
       "  'content': {'input': \"Tell me about the restaurant 'Armazém Clandestino.'\",\n",
       "   'output': \"'Armazém Clandestino' is an international cuisine restaurant located in Lisboa. It has an average price of 19 and a chill out style. The restaurant is closed on Mondays and Sundays, but open from 17:00 to 23:00 on Tuesdays to Saturdays.\"}},\n",
       " {'role': 'user',\n",
       "  'content': 'Tell me more about the restaurant \"Chutneys\"...'},\n",
       " {'role': 'assistant',\n",
       "  'content': {'input': \"Tell me about the restaurant 'Chutneys.'\",\n",
       "   'output': \"The restaurant 'Chutneys' is an Indian restaurant located in Albufeira. It has an average price of 14 and offers a Festivities style dining experience. The restaurant is open from 11:30 to 14:30 and 18:00 to 23:59 every day of the week.\"}}]"
      ]
     },
     "execution_count": 68,
     "metadata": {},
     "output_type": "execute_result"
    }
   ],
   "source": [
    "filomena.messages"
   ]
  }
 ],
 "metadata": {
  "kernelspec": {
   "display_name": "env",
   "language": "python",
   "name": "python3"
  },
  "language_info": {
   "codemirror_mode": {
    "name": "ipython",
    "version": 3
   },
   "file_extension": ".py",
   "mimetype": "text/x-python",
   "name": "python",
   "nbconvert_exporter": "python",
   "pygments_lexer": "ipython3",
   "version": "3.9.12"
  }
 },
 "nbformat": 4,
 "nbformat_minor": 2
}

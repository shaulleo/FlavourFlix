{
 "cells": [
  {
   "cell_type": "code",
   "execution_count": null,
   "metadata": {},
   "outputs": [],
   "source": [
    "from functions.streamlitfunc import *\n",
    "from functions.utils import *\n",
    "import time\n",
    "import streamlit as st\n",
    "from functions.chat_bot import *\n",
    "from functions.utils import local_settings\n",
    "from streamlit_extras.switch_page_button import switch_page \n",
    "# Gather the information provided by the user fill them in the following functions:\n",
    "# - get_recommendation\n",
    "# Use the output of the function and present the recommendation in the following format:\n",
    "# - Restaurant Name\n",
    "# - Cuisine Type\n",
    "# - Average Price\n",
    "# - Location\n",
    "# - Restaurant Style\n",
    "# - Restaurant Schedule\n",
    "# Ask if the user would like to see either see another recommendation, proceed with a reservation \\\n",
    "# at the suggested restaurant or know more about the restaurant.\n"
   ]
  },
  {
   "cell_type": "code",
   "execution_count": null,
   "metadata": {},
   "outputs": [],
   "source": [
    "from langchain.chat_models import ChatOpenAI\n",
    "from langchain.document_loaders import PyPDFLoader\n",
    "from langchain.memory import ConversationBufferMemory\n",
    "from langchain.embeddings.openai import OpenAIEmbeddings\n",
    "from langchain.vectorstores import FAISS\n",
    "from langchain.text_splitter import RecursiveCharacterTextSplitter\n",
    "from prompts_list import *\n",
    "from langchain.chains.question_answering import load_qa_chain\n",
    "from langchain.prompts import PromptTemplate\n",
    "from langchain.chat_models import ChatOpenAI\n",
    "from functions.utils import *\n",
    "from openai import OpenAI"
   ]
  },
  {
   "cell_type": "code",
   "execution_count": null,
   "metadata": {},
   "outputs": [],
   "source": [
    "files = ['data\\CP-23Group4 Project Proposal.pdf', 'data\\Food Personalities.pdf']\n",
    "fil = Filomena()\n",
    "fil.load_documents(files)"
   ]
  },
  {
   "cell_type": "code",
   "execution_count": null,
   "metadata": {},
   "outputs": [],
   "source": [
    "fil.get_completion('[Identification] Hello.', identified=True)"
   ]
  },
  {
   "cell_type": "code",
   "execution_count": null,
   "metadata": {},
   "outputs": [],
   "source": [
    "for message in fil.messages:\n",
    "    print(message['content'])"
   ]
  },
  {
   "cell_type": "code",
   "execution_count": null,
   "metadata": {},
   "outputs": [],
   "source": [
    "for message in fil.messages:\n",
    "    if message[\"role\"] == \"user\":\n",
    "        avatar = 'https://miro.medium.com/v2/resize:fit:1100/format:webp/1*_ARzR7F_fff_KI14yMKBzw.png'\n",
    "        print('user')\n",
    "    else:\n",
    "        avatar = avatar=\"https://cdn.discordapp.com/attachments/1150843302644547768/1190661589347602492/1000_F_378272550_xN8H7ZVudgCYWzfuZxRxVS5uFKjzsoMg.jpg?ex=65a29d04&is=65902804&hm=4a84c24f579a1d8ac5493b28f47b50c1dc7aaabc2832cb090bd7e4e95b2ab786&\"\n",
    "            # with st.chat_message(message[\"role\"], avatar=avatar):\n",
    "            #     st.markdown(message[\"content\"])"
   ]
  },
  {
   "cell_type": "code",
   "execution_count": null,
   "metadata": {},
   "outputs": [],
   "source": [
    "fil.prep_question('Who are the authors of FlavourFlix?', \n",
    "                  \"Fellow Foodie, I'm Filomena, your virtual assistant from FlavourFlix! We specialize in recommending restaurants based on your preferences and requirements. So, what are you in the mood for today? Let's find the perfect restaurant for you!\")"
   ]
  },
  {
   "cell_type": "code",
   "execution_count": null,
   "metadata": {},
   "outputs": [],
   "source": [
    "from functions.filomena_prompts import *\n",
    "query_helper = GPT_Helper(OPENAI_API_KEY=local_settings.OPENAI_API_KEY, system_behavior=prompt_templates['Query Helper System'])"
   ]
  },
  {
   "cell_type": "code",
   "execution_count": null,
   "metadata": {},
   "outputs": [],
   "source": [
    "def prep_question( query, chatbot_message):\n",
    "    prompt = f\"\"\"\n",
    "            The User Message is:{query}\n",
    "            The ChatBot Message is:{chatbot_message}\n",
    "            \"\"\"\n",
    "\n",
    "    query_formatted = query_helper.get_completion(prompt)\n",
    "    return query_formatted"
   ]
  },
  {
   "cell_type": "code",
   "execution_count": 17,
   "metadata": {},
   "outputs": [],
   "source": [
    "from functions.utils import *\n",
    "from functions.chat_bot import *"
   ]
  },
  {
   "cell_type": "code",
   "execution_count": 18,
   "metadata": {},
   "outputs": [],
   "source": [
    "fil = Filomena()\n",
    "fil.intialize_filomena(files=['data\\CP-23Group4 Project Proposal.pdf', 'data\\Food Personalities.pdf'])"
   ]
  },
  {
   "cell_type": "code",
   "execution_count": 19,
   "metadata": {},
   "outputs": [
    {
     "data": {
      "text/plain": [
       "[{'role': 'assistant',\n",
       "  'content': \"Hello! Welcome to FlavourFlix, your go-to virtual assistant for restaurant recommendations. I'm Filomena, here to help you find the perfect dining experience. How can I assist you today?\"}]"
      ]
     },
     "execution_count": 19,
     "metadata": {},
     "output_type": "execute_result"
    }
   ],
   "source": [
    "fil.messages"
   ]
  },
  {
   "cell_type": "code",
   "execution_count": null,
   "metadata": {},
   "outputs": [],
   "source": [
    "fil.generate_response('Who are the authors of FlavourFlix?')"
   ]
  },
  {
   "cell_type": "code",
   "execution_count": null,
   "metadata": {},
   "outputs": [],
   "source": [
    "fil.generate_response('What is the purpose of FlavourFlix?')"
   ]
  },
  {
   "cell_type": "code",
   "execution_count": 20,
   "metadata": {},
   "outputs": [
    {
     "data": {
      "text/plain": [
       "\"AI: Thank you for your question! I'm currently searching for the three most expensive restaurants in Albufeira. Please bear with me while I gather the information for you.\""
      ]
     },
     "execution_count": 20,
     "metadata": {},
     "output_type": "execute_result"
    }
   ],
   "source": [
    "fil.generate_response('What are the three most expensive restaurants in Albufeira?')"
   ]
  },
  {
   "cell_type": "code",
   "execution_count": 86,
   "metadata": {},
   "outputs": [],
   "source": [
    "from langchain.agents import tool\n",
    "from langchain import hub\n",
    "from langchain.agents import AgentExecutor, create_openai_tools_agent\n",
    "from langchain_community.chat_models import ChatOpenAI\n",
    "from langchain_community.tools.tavily_search import TavilySearchResults"
   ]
  },
  {
   "cell_type": "code",
   "execution_count": 87,
   "metadata": {},
   "outputs": [],
   "source": [
    "from langchain.agents import load_tools, initialize_agent\n",
    "from langchain.agents import AgentType\n",
    "from langchain.python import PythonREPL\n",
    "from langchain.chat_models import ChatOpenAI"
   ]
  },
  {
   "cell_type": "code",
   "execution_count": 88,
   "metadata": {},
   "outputs": [],
   "source": [
    "@tool\n",
    "def get_restaurant_info(restaurant_name):\n",
    "    \"\"\"Gathers all the restaurant information from the FlavourFlix restaurant database, based on the name of the restaurant.\"\"\"\n",
    "    restaurant_data = pd.read_csv('data\\preprocessed_restaurant_data.csv')\n",
    "    restaurant_data = restaurant_data[restaurant_data['name'] == restaurant_name]\n",
    "    result = f\"\"\"Name: {restaurant_data[\"name\"].values[0]} \\n /\n",
    "    Cuisine Type: {restaurant_data[\"cuisine\"].values[0]} \\n /\n",
    "    Average Price: {restaurant_data[\"averagePrice\"].values[0]} \\n /\n",
    "    Location: {restaurant_data[\"location\"].values[0]} \\n /\n",
    "    Restaurant Style: {restaurant_data[\"style\"].values[0]} \\n /\n",
    "    Restaurant Schedule: {restaurant_data[\"schedule\"].values[0]}\"\"\"\n",
    "    return result"
   ]
  },
  {
   "cell_type": "code",
   "execution_count": 89,
   "metadata": {},
   "outputs": [],
   "source": [
    "client_data = pd.read_csv('data\\clientData.csv')"
   ]
  },
  {
   "cell_type": "code",
   "execution_count": 62,
   "metadata": {},
   "outputs": [],
   "source": [
    "# !python -m spacy download en_core_web_md"
   ]
  },
  {
   "cell_type": "code",
   "execution_count": 90,
   "metadata": {},
   "outputs": [],
   "source": [
    "import spacy\n",
    "from sklearn.metrics.pairwise import cosine_similarity \n",
    "def get_data_match(data, word, col_to_match):\n",
    "    nlp = spacy.load(\"en_core_web_md\")\n",
    "\n",
    "    word_embedding = nlp(word).vector\n",
    "    word_embedding = nlp('mexican').vector\n",
    "    similarities = {}\n",
    "    for token in list(data[col_to_match].unique()):\n",
    "        token_embedding = nlp(token).vector\n",
    "        similarities[token] = cosine_similarity([word_embedding], [token_embedding])[0][0]\n",
    "\n",
    "    return max(similarities, key=similarities.get)"
   ]
  },
  {
   "cell_type": "code",
   "execution_count": 118,
   "metadata": {},
   "outputs": [],
   "source": [
    "def filter_schedule(restaurants, dinner_hour = None, lunch_hour = None):\n",
    "    def contains_time_interval(schedule):\n",
    "        if schedule in ['Closed', 'Not Available']:\n",
    "            return False\n",
    "        schedule_dict = {}\n",
    "        try:\n",
    "            schedule_dict = ast.literal_eval(schedule)\n",
    "        except (SyntaxError, ValueError):\n",
    "            pass\n",
    "\n",
    "        for day_schedule in schedule_dict.values():\n",
    "            if day_schedule == 'Closed':\n",
    "                continue\n",
    "            times = day_schedule.split(', ')\n",
    "            for time in times:\n",
    "                start, end = map(pd.to_datetime, time.split(' - '))\n",
    "                if dinner_hour and lunch_hour:\n",
    "                    if (start <= dinner_start <= end) or (start <= dinner_end <= end) or (start <= lunch_start <= end) or (start <= lunch_end <= end):\n",
    "                        return True\n",
    "                elif dinner_hour:\n",
    "                    if (start <= dinner_start <= end) or (start <= dinner_end <= end):\n",
    "                        return True\n",
    "                elif lunch_hour:\n",
    "                    if (start <= lunch_start <= end) or (start <= lunch_end <= end):\n",
    "                        return True\n",
    "                else:\n",
    "                    return False\n",
    "        return False\n",
    "\n",
    "    dinner_start, dinner_end = map(pd.to_datetime, dinner_hour.split(' - '))\n",
    "    lunch_start, lunch_end = map(pd.to_datetime, lunch_hour.split(' - '))\n",
    "\n",
    "    filtered_restaurants = []\n",
    "    for index, row in restaurants.iterrows():\n",
    "        if contains_time_interval(row['schedule']):\n",
    "            filtered_restaurants.append(row['name'])\n",
    "\n",
    "    return filtered_restaurants"
   ]
  },
  {
   "cell_type": "code",
   "execution_count": 127,
   "metadata": {},
   "outputs": [],
   "source": [
    "from functions.location import *\n",
    "from functions.preprocessement import *\n",
    "from langdetect import detect\n",
    "\n",
    "def get_recommendation(nationality=None, city=None, travel_car=None,  favourite_food=None,  restaurant_style=None,\n",
    "                       cuisine_type=None, lunch_hour=None, dinner_hour=None,\n",
    "                       normal_price_range=None):\n",
    "    \"\"\"Recommends restaurants based on the user's preferences and requirements.\"\"\"\n",
    "    restaurant_data = pd.read_csv('data/preprocessed_restaurant_data.csv')\n",
    "    filtered_data = restaurant_data.copy()\n",
    "\n",
    "    conditions = []\n",
    "\n",
    "    #Location filters such that the restaurant is near the user and the place the user wants to go\n",
    "    if city:\n",
    "        city_match = get_data_match(restaurant_data, city, 'city')\n",
    "        filtered_data = filtered_data[filtered_data['city'] == city_match]\n",
    "        latitude, longitude = find_coordinates(city_match)\n",
    "        if latitude is not None and longitude is not None:\n",
    "            desired_location = Location(latitude, longitude)\n",
    "            filtered_data = nearYou(desired_location, filtered_data)\n",
    "            if travel_car:\n",
    "                filtered_data['minutes_away'] = filtered_data.apply(lambda row: desired_location.getDirections(row['latitude'], row['longitude'], ['driving'])['driving'].minutes, axis=1)\n",
    "                filtered_data = filtered_data[filtered_data['minutes_away'] <= 35]\n",
    "            else:\n",
    "                filtered_data['minutes_away'] = filtered_data.apply(lambda row: desired_location.getDirections(row['latitude'], row['longitude'], ['walking'])['walking'].minutes, axis=1)\n",
    "                filtered_data = filtered_data[filtered_data['minutes_away'] <= 59]\n",
    "\n",
    "    #Time filters such that the restaurant is open at the time the user wants to go\n",
    "    if lunch_hour:\n",
    "        filtered_data = filter_schedule(filtered_data, dinner_hour, lunch_hour)\n",
    "    if dinner_hour:\n",
    "        filtered_data = filter_schedule(filtered_data, dinner_hour, lunch_hour)\n",
    "    \n",
    "    #Additional filters\n",
    "    if nationality and len(filtered_data) != 0:\n",
    "        nationality_match = get_data_match(restaurant_data, nationality, 'cuisine')\n",
    "        conditions.append(restaurant_data['cuisine'] == nationality_match)\n",
    "    \n",
    "    if restaurant_style:\n",
    "        restaurant_style_match = get_data_match(restaurant_data, restaurant_style, 'style')\n",
    "        conditions.append(restaurant_data['style'] == restaurant_style_match)\n",
    "    \n",
    "    if cuisine_type:\n",
    "        cuisine_type_match = get_data_match(restaurant_data, cuisine_type, 'cuisine')\n",
    "        conditions.append(restaurant_data['cuisine'] == cuisine_type_match)\n",
    "\n",
    "    if normal_price_range:\n",
    "        conditions.append(restaurant_data['averagePrice'] <= normal_price_range+4)\n",
    "\n",
    "    if favourite_food:\n",
    "        if detect(favourite_food) == 'en':\n",
    "            conditions.append(restaurant_data['menu_en'].str.contains(favourite_food))\n",
    "        else:\n",
    "            conditions.append(restaurant_data['menu_pre_proc'].str.contains(favourite_food))\n",
    "    \n",
    "\n",
    "    # Combine conditions with logical OR\n",
    "    if conditions and len(filtered_data) != 0:\n",
    "        filtered_data = restaurant_data[pd.concat(conditions, axis=1).any(axis=1)]\n",
    "    else:\n",
    "        filtered_data = restaurant_data \n",
    "    \n",
    "\n",
    "    # Ranking - sort by ratings or other criteria\n",
    "    restaurant_data = restaurant_data.sort_values(by='ratingValue', ascending=False)\n",
    "\n",
    "    # Return top recommendations\n",
    "    return restaurant_data.head(5) \n"
   ]
  },
  {
   "cell_type": "code",
   "execution_count": 128,
   "metadata": {},
   "outputs": [
    {
     "data": {
      "text/html": [
       "<div>\n",
       "<style scoped>\n",
       "    .dataframe tbody tr th:only-of-type {\n",
       "        vertical-align: middle;\n",
       "    }\n",
       "\n",
       "    .dataframe tbody tr th {\n",
       "        vertical-align: top;\n",
       "    }\n",
       "\n",
       "    .dataframe thead th {\n",
       "        text-align: right;\n",
       "    }\n",
       "</style>\n",
       "<table border=\"1\" class=\"dataframe\">\n",
       "  <thead>\n",
       "    <tr style=\"text-align: right;\">\n",
       "      <th></th>\n",
       "      <th>url</th>\n",
       "      <th>name</th>\n",
       "      <th>address</th>\n",
       "      <th>photo</th>\n",
       "      <th>averagePrice</th>\n",
       "      <th>chefName1</th>\n",
       "      <th>chefName2</th>\n",
       "      <th>chefName3</th>\n",
       "      <th>cuisine</th>\n",
       "      <th>michelin</th>\n",
       "      <th>...</th>\n",
       "      <th>city</th>\n",
       "      <th>ambienceRatingSummary</th>\n",
       "      <th>foodRatingSummary</th>\n",
       "      <th>serviceRatingSummary</th>\n",
       "      <th>paymentAcceptedSummary</th>\n",
       "      <th>outdoor_area</th>\n",
       "      <th>current_occupation</th>\n",
       "      <th>menu_pre_proc</th>\n",
       "      <th>menu_en</th>\n",
       "      <th>menu_pt</th>\n",
       "    </tr>\n",
       "  </thead>\n",
       "  <tbody>\n",
       "    <tr>\n",
       "      <th>1324</th>\n",
       "      <td>https://www.thefork.com/restaurant/rei-da-gula...</td>\n",
       "      <td>Rei da Gula</td>\n",
       "      <td>R. de Ceuta 63,Porto, Portugal</td>\n",
       "      <td>https://res.cloudinary.com/tf-lab/image/upload...</td>\n",
       "      <td>15</td>\n",
       "      <td>Not Applicable</td>\n",
       "      <td>Not Applicable</td>\n",
       "      <td>Not Applicable</td>\n",
       "      <td>Pizzeria</td>\n",
       "      <td>0</td>\n",
       "      <td>...</td>\n",
       "      <td>Porto</td>\n",
       "      <td>NaN</td>\n",
       "      <td>NaN</td>\n",
       "      <td>NaN</td>\n",
       "      <td>{'Credit Card', 'MBWay'}</td>\n",
       "      <td>0</td>\n",
       "      <td>0</td>\n",
       "      <td>{'Entradas - para começar ': {'Sopa': {'price'...</td>\n",
       "      <td>{'Starters - to get started': {'Sopa': {'price...</td>\n",
       "      <td>{'Entradas - para começar ': {'Soup': {'price'...</td>\n",
       "    </tr>\n",
       "    <tr>\n",
       "      <th>224</th>\n",
       "      <td>https://www.thefork.com/restaurant/caravela-wy...</td>\n",
       "      <td>Caravela - Wyndham Grand Algarve</td>\n",
       "      <td>Av. André Jordan 39,Almancil, Portugal</td>\n",
       "      <td>https://res.cloudinary.com/tf-lab/image/upload...</td>\n",
       "      <td>21</td>\n",
       "      <td>Not Applicable</td>\n",
       "      <td>Not Applicable</td>\n",
       "      <td>Not Applicable</td>\n",
       "      <td>International</td>\n",
       "      <td>0</td>\n",
       "      <td>...</td>\n",
       "      <td>Faro</td>\n",
       "      <td>10.0</td>\n",
       "      <td>10.0</td>\n",
       "      <td>10.0</td>\n",
       "      <td>{'Credit Card', 'MBWay'}</td>\n",
       "      <td>0</td>\n",
       "      <td>23</td>\n",
       "      <td>{'Entradas': {'Creme De Couve-Flor Com Aroma D...</td>\n",
       "      <td>{'Appetizer': {'Cauliflower Cream with Wasabi ...</td>\n",
       "      <td>{'Starters': {'Creme De Couve-Flor Com Aroma D...</td>\n",
       "    </tr>\n",
       "    <tr>\n",
       "      <th>372</th>\n",
       "      <td>https://www.thefork.com/restaurant/alegre-me-h...</td>\n",
       "      <td>Alegre-me Healthy Brunch</td>\n",
       "      <td>R. Antão Girão 77,Setúbal, Portugal</td>\n",
       "      <td>https://res.cloudinary.com/tf-lab/image/upload...</td>\n",
       "      <td>12</td>\n",
       "      <td>Not Applicable</td>\n",
       "      <td>Not Applicable</td>\n",
       "      <td>Not Applicable</td>\n",
       "      <td>Vegetarian</td>\n",
       "      <td>0</td>\n",
       "      <td>...</td>\n",
       "      <td>Setúbal</td>\n",
       "      <td>10.0</td>\n",
       "      <td>10.0</td>\n",
       "      <td>10.0</td>\n",
       "      <td>{'Credit Card'}</td>\n",
       "      <td>0</td>\n",
       "      <td>0</td>\n",
       "      <td>{'Quesadilhas': {'Surfie': {'price': 9.5, 'des...</td>\n",
       "      <td>{'Quesadillas': {'Surfie': {'price': 9.5, 'des...</td>\n",
       "      <td>{'Quesadilhas': {'Surfista': {'price': 9.5, 'd...</td>\n",
       "    </tr>\n",
       "    <tr>\n",
       "      <th>217</th>\n",
       "      <td>https://www.thefork.com/restaurant/grandbar-lo...</td>\n",
       "      <td>Grandbar &amp; Lounge - Wyndham Grand Algarve</td>\n",
       "      <td>Av. André Jordan 39,Almancil, Portugal</td>\n",
       "      <td>https://res.cloudinary.com/tf-lab/image/upload...</td>\n",
       "      <td>14</td>\n",
       "      <td>Not Applicable</td>\n",
       "      <td>Not Applicable</td>\n",
       "      <td>Not Applicable</td>\n",
       "      <td>European</td>\n",
       "      <td>0</td>\n",
       "      <td>...</td>\n",
       "      <td>Faro</td>\n",
       "      <td>10.0</td>\n",
       "      <td>10.0</td>\n",
       "      <td>10.0</td>\n",
       "      <td>{'Credit Card', 'MBWay'}</td>\n",
       "      <td>0</td>\n",
       "      <td>0</td>\n",
       "      <td>{'Bites wga': {'Mini espetadas frango \\\\\\\\Yaki...</td>\n",
       "      <td>{'Bites wga': {'Mini chicken kebabs \\\\\\\\Yakito...</td>\n",
       "      <td>{'Mordidas wga': {'Mini espetadas frango \\\\\\\\Y...</td>\n",
       "    </tr>\n",
       "    <tr>\n",
       "      <th>419</th>\n",
       "      <td>https://www.thefork.com/restaurant/casa-do-arc...</td>\n",
       "      <td>Casa do Arco by Douro Exclusive</td>\n",
       "      <td>5085-252,São Cristovão do Douro, Portugal</td>\n",
       "      <td>https://res.cloudinary.com/tf-lab/image/upload...</td>\n",
       "      <td>35</td>\n",
       "      <td>Pedro Pires</td>\n",
       "      <td>Not Applicable</td>\n",
       "      <td>Not Applicable</td>\n",
       "      <td>European</td>\n",
       "      <td>0</td>\n",
       "      <td>...</td>\n",
       "      <td>Vila Real</td>\n",
       "      <td>9.9</td>\n",
       "      <td>9.6</td>\n",
       "      <td>10.0</td>\n",
       "      <td>{'Mastercard', 'Credit Card', 'Visa', 'Visa El...</td>\n",
       "      <td>0</td>\n",
       "      <td>0</td>\n",
       "      <td>{'Para Começar': {'Torradas De Pão': {'price':...</td>\n",
       "      <td>{'To begin': {'Bread Toast': {'price': 8.0, 'd...</td>\n",
       "      <td>{'Para Começar': {'Torradas De Pão': {'price':...</td>\n",
       "    </tr>\n",
       "  </tbody>\n",
       "</table>\n",
       "<p>5 rows × 33 columns</p>\n",
       "</div>"
      ],
      "text/plain": [
       "                                                    url  \\\n",
       "1324  https://www.thefork.com/restaurant/rei-da-gula...   \n",
       "224   https://www.thefork.com/restaurant/caravela-wy...   \n",
       "372   https://www.thefork.com/restaurant/alegre-me-h...   \n",
       "217   https://www.thefork.com/restaurant/grandbar-lo...   \n",
       "419   https://www.thefork.com/restaurant/casa-do-arc...   \n",
       "\n",
       "                                           name  \\\n",
       "1324                                Rei da Gula   \n",
       "224            Caravela - Wyndham Grand Algarve   \n",
       "372                    Alegre-me Healthy Brunch   \n",
       "217   Grandbar & Lounge - Wyndham Grand Algarve   \n",
       "419             Casa do Arco by Douro Exclusive   \n",
       "\n",
       "                                        address  \\\n",
       "1324             R. de Ceuta 63,Porto, Portugal   \n",
       "224      Av. André Jordan 39,Almancil, Portugal   \n",
       "372         R. Antão Girão 77,Setúbal, Portugal   \n",
       "217      Av. André Jordan 39,Almancil, Portugal   \n",
       "419   5085-252,São Cristovão do Douro, Portugal   \n",
       "\n",
       "                                                  photo  averagePrice  \\\n",
       "1324  https://res.cloudinary.com/tf-lab/image/upload...            15   \n",
       "224   https://res.cloudinary.com/tf-lab/image/upload...            21   \n",
       "372   https://res.cloudinary.com/tf-lab/image/upload...            12   \n",
       "217   https://res.cloudinary.com/tf-lab/image/upload...            14   \n",
       "419   https://res.cloudinary.com/tf-lab/image/upload...            35   \n",
       "\n",
       "           chefName1       chefName2       chefName3        cuisine  michelin  \\\n",
       "1324  Not Applicable  Not Applicable  Not Applicable       Pizzeria         0   \n",
       "224   Not Applicable  Not Applicable  Not Applicable  International         0   \n",
       "372   Not Applicable  Not Applicable  Not Applicable     Vegetarian         0   \n",
       "217   Not Applicable  Not Applicable  Not Applicable       European         0   \n",
       "419      Pedro Pires  Not Applicable  Not Applicable       European         0   \n",
       "\n",
       "      ...       city  ambienceRatingSummary  foodRatingSummary  \\\n",
       "1324  ...      Porto                    NaN                NaN   \n",
       "224   ...       Faro                   10.0               10.0   \n",
       "372   ...    Setúbal                   10.0               10.0   \n",
       "217   ...       Faro                   10.0               10.0   \n",
       "419   ...  Vila Real                    9.9                9.6   \n",
       "\n",
       "     serviceRatingSummary                             paymentAcceptedSummary  \\\n",
       "1324                  NaN                           {'Credit Card', 'MBWay'}   \n",
       "224                  10.0                           {'Credit Card', 'MBWay'}   \n",
       "372                  10.0                                    {'Credit Card'}   \n",
       "217                  10.0                           {'Credit Card', 'MBWay'}   \n",
       "419                  10.0  {'Mastercard', 'Credit Card', 'Visa', 'Visa El...   \n",
       "\n",
       "     outdoor_area current_occupation  \\\n",
       "1324            0                  0   \n",
       "224             0                 23   \n",
       "372             0                  0   \n",
       "217             0                  0   \n",
       "419             0                  0   \n",
       "\n",
       "                                          menu_pre_proc  \\\n",
       "1324  {'Entradas - para começar ': {'Sopa': {'price'...   \n",
       "224   {'Entradas': {'Creme De Couve-Flor Com Aroma D...   \n",
       "372   {'Quesadilhas': {'Surfie': {'price': 9.5, 'des...   \n",
       "217   {'Bites wga': {'Mini espetadas frango \\\\\\\\Yaki...   \n",
       "419   {'Para Começar': {'Torradas De Pão': {'price':...   \n",
       "\n",
       "                                                menu_en  \\\n",
       "1324  {'Starters - to get started': {'Sopa': {'price...   \n",
       "224   {'Appetizer': {'Cauliflower Cream with Wasabi ...   \n",
       "372   {'Quesadillas': {'Surfie': {'price': 9.5, 'des...   \n",
       "217   {'Bites wga': {'Mini chicken kebabs \\\\\\\\Yakito...   \n",
       "419   {'To begin': {'Bread Toast': {'price': 8.0, 'd...   \n",
       "\n",
       "                                                menu_pt  \n",
       "1324  {'Entradas - para começar ': {'Soup': {'price'...  \n",
       "224   {'Starters': {'Creme De Couve-Flor Com Aroma D...  \n",
       "372   {'Quesadilhas': {'Surfista': {'price': 9.5, 'd...  \n",
       "217   {'Mordidas wga': {'Mini espetadas frango \\\\\\\\Y...  \n",
       "419   {'Para Começar': {'Torradas De Pão': {'price':...  \n",
       "\n",
       "[5 rows x 33 columns]"
      ]
     },
     "execution_count": 128,
     "metadata": {},
     "output_type": "execute_result"
    }
   ],
   "source": [
    "get_recommendation(city='Albufeira', normal_price_range=20, favourite_food='massa')"
   ]
  },
  {
   "cell_type": "code",
   "execution_count": 33,
   "metadata": {},
   "outputs": [],
   "source": [
    "restaurant_data = pd.read_csv('data\\preprocessed_restaurant_data.csv')"
   ]
  },
  {
   "cell_type": "code",
   "execution_count": 98,
   "metadata": {},
   "outputs": [],
   "source": [
    "import pandas as pd\n",
    "import ast\n",
    "\n",
    "def filter_schedule(restaurants, dinner_hour, lunch_hour):\n",
    "    def contains_time_interval(schedule):\n",
    "        if schedule in ['Closed', 'Not Available']:\n",
    "            return False\n",
    "        schedule_dict = {}\n",
    "        try:\n",
    "            schedule_dict = ast.literal_eval(schedule)\n",
    "        except (SyntaxError, ValueError):\n",
    "            pass\n",
    "\n",
    "        for day_schedule in schedule_dict.values():\n",
    "            if day_schedule == 'Closed':\n",
    "                continue\n",
    "            times = day_schedule.split(', ')\n",
    "            for time in times:\n",
    "                start, end = map(pd.to_datetime, time.split(' - '))\n",
    "                if (start <= dinner_start <= end) or (start <= dinner_end <= end) or (start <= lunch_start <= end) or (start <= lunch_end <= end):\n",
    "                    return True\n",
    "        return False\n",
    "\n",
    "    dinner_start, dinner_end = map(pd.to_datetime, dinner_hour.split(' - '))\n",
    "    lunch_start, lunch_end = map(pd.to_datetime, lunch_hour.split(' - '))\n",
    "\n",
    "    filtered_restaurants = []\n",
    "    for index, row in restaurants.iterrows():\n",
    "        if contains_time_interval(row['schedule']):\n",
    "            filtered_restaurants.append(row['name'])\n",
    "\n",
    "    return filtered_restaurants\n"
   ]
  },
  {
   "cell_type": "code",
   "execution_count": 91,
   "metadata": {},
   "outputs": [],
   "source": [
    "llm = ChatOpenAI(temperature=0, model='gpt-3.5-turbo')\n",
    "agent= initialize_agent( [get_restaurant_info],\n",
    "    llm,\n",
    "    agent=AgentType.CHAT_ZERO_SHOT_REACT_DESCRIPTION,\n",
    "    handle_parsing_errors=True,\n",
    "    verbose = False)"
   ]
  },
  {
   "cell_type": "code",
   "execution_count": 92,
   "metadata": {},
   "outputs": [],
   "source": [
    "result = agent(\"Tell me about restaurant 'Chutneys'\")"
   ]
  },
  {
   "cell_type": "code",
   "execution_count": 93,
   "metadata": {},
   "outputs": [
    {
     "data": {
      "text/plain": [
       "{'input': \"Tell me about restaurant 'Chutneys'\",\n",
       " 'output': \"The restaurant 'Chutneys' is an Indian restaurant located in Albufeira. It has an average price of 14 and follows a Festivities restaurant style. The restaurant is open from 11:30 AM to 2:30 PM and from 6:00 PM to 11:59 PM every day of the week.\"}"
      ]
     },
     "execution_count": 93,
     "metadata": {},
     "output_type": "execute_result"
    }
   ],
   "source": [
    "result"
   ]
  },
  {
   "cell_type": "code",
   "execution_count": 31,
   "metadata": {},
   "outputs": [
    {
     "name": "stdout",
     "output_type": "stream",
     "text": [
      "\n",
      "\n",
      "\u001b[1m> Entering new AgentExecutor chain...\u001b[0m\n",
      "\u001b[32;1m\u001b[1;3mQuestion: What is the information about the restaurant 'A Galinha da Vizinha' in Albufeira?\n",
      "Thought: I should use the get_restaurant_info tool to gather the information about the restaurant.\n",
      "Action:\n",
      "```\n",
      "{\n",
      "  \"action\": \"get_restaurant_info\",\n",
      "  \"action_input\": \"A Galinha da Vizinha\"\n",
      "}\n",
      "```\n",
      "\u001b[0mexception on external access\n"
     ]
    }
   ],
   "source": [
    "try:\n",
    "    result = agent(\"Tell me abour restaurant 'A Galinha da Vizinha' in Albufeira\")\n",
    "except:\n",
    "    print(\"exception on external access\")"
   ]
  },
  {
   "cell_type": "code",
   "execution_count": 4,
   "metadata": {},
   "outputs": [
    {
     "ename": "NameError",
     "evalue": "name 'agent' is not defined",
     "output_type": "error",
     "traceback": [
      "\u001b[1;31m---------------------------------------------------------------------------\u001b[0m",
      "\u001b[1;31mNameError\u001b[0m                                 Traceback (most recent call last)",
      "Cell \u001b[1;32mIn[4], line 165\u001b[0m\n\u001b[0;32m    151\u001b[0m llm \u001b[38;5;241m=\u001b[39m ChatOpenAI(temperature\u001b[38;5;241m=\u001b[39m\u001b[38;5;241m0\u001b[39m, model\u001b[38;5;241m=\u001b[39m\u001b[38;5;124m'\u001b[39m\u001b[38;5;124mgpt-3.5-turbo\u001b[39m\u001b[38;5;124m'\u001b[39m)\n\u001b[0;32m    152\u001b[0m \u001b[38;5;66;03m# agent= initialize_agent( [get_restaurant_info],\u001b[39;00m\n\u001b[0;32m    153\u001b[0m \u001b[38;5;66;03m#     llm,\u001b[39;00m\n\u001b[0;32m    154\u001b[0m \u001b[38;5;66;03m#     agent=AgentType.CHAT_ZERO_SHOT_REACT_DESCRIPTION,\u001b[39;00m\n\u001b[1;32m   (...)\u001b[0m\n\u001b[0;32m    163\u001b[0m \n\u001b[0;32m    164\u001b[0m \u001b[38;5;66;03m# result = agent.invoke({'input': \"Tell me about restaurant 'Chutneys' in Albufeira\"})\u001b[39;00m\n\u001b[1;32m--> 165\u001b[0m result \u001b[38;5;241m=\u001b[39m \u001b[43magent\u001b[49m(\u001b[38;5;124m\"\u001b[39m\u001b[38;5;124mTell me about restaurant \u001b[39m\u001b[38;5;124m'\u001b[39m\u001b[38;5;124mChutneys\u001b[39m\u001b[38;5;124m'\u001b[39m\u001b[38;5;124m in Albufeira\u001b[39m\u001b[38;5;124m\"\u001b[39m)\n\u001b[0;32m    166\u001b[0m \u001b[38;5;28mprint\u001b[39m(result)\n",
      "\u001b[1;31mNameError\u001b[0m: name 'agent' is not defined"
     ]
    }
   ],
   "source": [
    "from functions.location import *\n",
    "from functions.preprocessement import *\n",
    "from langdetect import detect\n",
    "from langchain import hub\n",
    "from sklearn.metrics.pairwise import cosine_similarity \n",
    "import spacy\n",
    "from langchain.agents import tool\n",
    "from langchain import hub\n",
    "from langchain.agents import AgentExecutor, create_openai_tools_agent\n",
    "from langchain_community.chat_models import ChatOpenAI\n",
    "from langchain_community.tools.tavily_search import TavilySearchResults\n",
    "from langchain.agents import load_tools, initialize_agent\n",
    "from langchain.agents import AgentType\n",
    "from langchain.python import PythonREPL\n",
    "from langchain.chat_models import ChatOpenAI\n",
    "\n",
    "@tool\n",
    "def get_restaurant_info(restaurant_name):\n",
    "    \"\"\"Gathers all the restaurant information from the FlavourFlix restaurant database, based on the name of the restaurant.\"\"\"\n",
    "    restaurant_data = pd.read_csv('data\\preprocessed_restaurant_data.csv')\n",
    "    restaurant_data = restaurant_data[restaurant_data['name'] == restaurant_name]\n",
    "    result = f\"\"\"Name: {restaurant_data[\"name\"].values[0]} \\n /\n",
    "    Cuisine Type: {restaurant_data[\"cuisine\"].values[0]} \\n /\n",
    "    Average Price: {restaurant_data[\"averagePrice\"].values[0]} \\n /\n",
    "    Location: {restaurant_data[\"location\"].values[0]} \\n /\n",
    "    Restaurant Style: {restaurant_data[\"style\"].values[0]} \\n /\n",
    "    Restaurant Schedule: {restaurant_data[\"schedule\"].values[0]}\"\"\"\n",
    "    return result\n",
    "\n",
    "\n",
    "def get_data_match(data, word, col_to_match):\n",
    "    nlp = spacy.load(\"en_core_web_md\")\n",
    "\n",
    "    word_embedding = nlp(word).vector\n",
    "    word_embedding = nlp('mexican').vector\n",
    "    similarities = {}\n",
    "    for token in list(data[col_to_match].unique()):\n",
    "        token_embedding = nlp(token).vector\n",
    "        similarities[token] = cosine_similarity([word_embedding], [token_embedding])[0][0]\n",
    "\n",
    "    return max(similarities, key=similarities.get)\n",
    "\n",
    "\n",
    "def filter_schedule(restaurants, dinner_hour = None, lunch_hour = None):\n",
    "    def contains_time_interval(schedule):\n",
    "        if schedule in ['Closed', 'Not Available']:\n",
    "            return False\n",
    "        schedule_dict = {}\n",
    "        try:\n",
    "            schedule_dict = ast.literal_eval(schedule)\n",
    "        except (SyntaxError, ValueError):\n",
    "            pass\n",
    "\n",
    "        for day_schedule in schedule_dict.values():\n",
    "            if day_schedule == 'Closed':\n",
    "                continue\n",
    "            times = day_schedule.split(', ')\n",
    "            for time in times:\n",
    "                start, end = map(pd.to_datetime, time.split(' - '))\n",
    "                if dinner_hour and lunch_hour:\n",
    "                    if (start <= dinner_start <= end) or (start <= dinner_end <= end) or (start <= lunch_start <= end) or (start <= lunch_end <= end):\n",
    "                        return True\n",
    "                elif dinner_hour:\n",
    "                    if (start <= dinner_start <= end) or (start <= dinner_end <= end):\n",
    "                        return True\n",
    "                elif lunch_hour:\n",
    "                    if (start <= lunch_start <= end) or (start <= lunch_end <= end):\n",
    "                        return True\n",
    "                else:\n",
    "                    return False\n",
    "        return False\n",
    "\n",
    "    dinner_start, dinner_end = map(pd.to_datetime, dinner_hour.split(' - '))\n",
    "    lunch_start, lunch_end = map(pd.to_datetime, lunch_hour.split(' - '))\n",
    "\n",
    "    filtered_restaurants = []\n",
    "    for index, row in restaurants.iterrows():\n",
    "        if contains_time_interval(row['schedule']):\n",
    "            filtered_restaurants.append(row['name'])\n",
    "\n",
    "    return filtered_restaurants\n",
    "\n",
    "@tool\n",
    "def get_recommendation(nationality=None, city=None, travel_car=None,  favourite_food=None,  restaurant_style=None,\n",
    "                       cuisine_type=None, lunch_hour=None, dinner_hour=None,\n",
    "                       normal_price_range=None):\n",
    "    \"\"\"Recommends restaurants based on the user's preferences and requirements.\"\"\"\n",
    "    restaurant_data = pd.read_csv('data/preprocessed_restaurant_data.csv')\n",
    "    filtered_data = restaurant_data.copy()\n",
    "\n",
    "    conditions = []\n",
    "\n",
    "    #Location filters such that the restaurant is near the user and the place the user wants to go\n",
    "    if city:\n",
    "        city_match = get_data_match(restaurant_data, city, 'city')\n",
    "        filtered_data = filtered_data[filtered_data['city'] == city_match]\n",
    "        latitude, longitude = find_coordinates(city_match)\n",
    "        if latitude is not None and longitude is not None:\n",
    "            desired_location = Location(latitude, longitude)\n",
    "            filtered_data = nearYou(desired_location, filtered_data)\n",
    "            if travel_car:\n",
    "                filtered_data['minutes_away'] = filtered_data.apply(lambda row: desired_location.getDirections(row['latitude'], row['longitude'], ['driving'])['driving'].minutes, axis=1)\n",
    "                filtered_data = filtered_data[filtered_data['minutes_away'] <= 35]\n",
    "            else:\n",
    "                filtered_data['minutes_away'] = filtered_data.apply(lambda row: desired_location.getDirections(row['latitude'], row['longitude'], ['walking'])['walking'].minutes, axis=1)\n",
    "                filtered_data = filtered_data[filtered_data['minutes_away'] <= 59]\n",
    "\n",
    "    #Time filters such that the restaurant is open at the time the user wants to go\n",
    "    if lunch_hour:\n",
    "        filtered_data = filter_schedule(filtered_data, dinner_hour, lunch_hour)\n",
    "    if dinner_hour:\n",
    "        filtered_data = filter_schedule(filtered_data, dinner_hour, lunch_hour)\n",
    "    \n",
    "    #Additional filters\n",
    "    if nationality and len(filtered_data) != 0:\n",
    "        nationality_match = get_data_match(restaurant_data, nationality, 'cuisine')\n",
    "        conditions.append(restaurant_data['cuisine'] == nationality_match)\n",
    "    \n",
    "    if restaurant_style:\n",
    "        restaurant_style_match = get_data_match(restaurant_data, restaurant_style, 'style')\n",
    "        conditions.append(restaurant_data['style'] == restaurant_style_match)\n",
    "    \n",
    "    if cuisine_type:\n",
    "        cuisine_type_match = get_data_match(restaurant_data, cuisine_type, 'cuisine')\n",
    "        conditions.append(restaurant_data['cuisine'] == cuisine_type_match)\n",
    "\n",
    "    if normal_price_range:\n",
    "        conditions.append(restaurant_data['averagePrice'] <= normal_price_range+4)\n",
    "\n",
    "    if favourite_food:\n",
    "        if detect(favourite_food) == 'en':\n",
    "            conditions.append(restaurant_data['menu_en'].str.contains(favourite_food))\n",
    "        else:\n",
    "            conditions.append(restaurant_data['menu_pre_proc'].str.contains(favourite_food))\n",
    "    \n",
    "\n",
    "    # Combine conditions with logical OR\n",
    "    if conditions and len(filtered_data) != 0:\n",
    "        filtered_data = restaurant_data[pd.concat(conditions, axis=1).any(axis=1)]\n",
    "    else:\n",
    "        filtered_data = restaurant_data \n",
    "    \n",
    "\n",
    "    # Ranking - sort by ratings or other criteria\n",
    "    restaurant_data = restaurant_data.sort_values(by='ratingValue', ascending=False)\n",
    "\n",
    "    # Return top recommendations\n",
    "    return restaurant_data.head(5) \n",
    "\n",
    "\n",
    "# llm = ChatOpenAI(temperature=0, model='gpt-3.5-turbo')\n",
    "# # agent= initialize_agent( [get_restaurant_info],\n",
    "# #     llm,\n",
    "# #     agent=AgentType.CHAT_ZERO_SHOT_REACT_DESCRIPTION,\n",
    "# #     handle_parsing_errors=True,\n",
    "# #     verbose = False)\n",
    "\n",
    "# # tools = [get_restaurant_info, get_recommendation]\n",
    "# # # Get the prompt to use - you can modify this!\n",
    "# # prompt = hub.pull(\"hwchase17/openai-tools-agent\")\n",
    "# # agent = create_openai_tools_agent(llm, tools, prompt)\n",
    "# # agent_executor =  AgentExecutor(agent=agent, tools=tools, verbose=True)\n",
    "\n",
    "# # result = agent.invoke({'input': \"Tell me about restaurant 'Chutneys' in Albufeira\"})\n",
    "# result = agent(\"Tell me about restaurant 'Chutneys' in Albufeira\")\n",
    "# print(result)"
   ]
  },
  {
   "cell_type": "code",
   "execution_count": 75,
   "metadata": {},
   "outputs": [],
   "source": [
    "instructions2 = {\n",
    "                '[INSTRUCTION: Identification]': \n",
    "                 {'instruction description': f\"\"\"Greet the user by their username or first name, if it exists (is different from \"No Identification Provided\"). \\\n",
    "                                        Otherwise, greet the user as \"Fellow Foodie\". Introduce yourself as Filomena - FlavourFlix' virtual assistance. \n",
    "                                        \\Ask the user what they need your help with. \"\"\" + identification_vars,\n",
    "                    'when to use': \"When the user greets the ChatBot and the content of the last message from the assistant is empty.\"},\n",
    "\n",
    "\n",
    "                 '[INSTRUCTION: Question]':\n",
    "                 {'instruction description': f\"\"\"Answer the user's question based on the provided context and chat history.\"\"\", \n",
    "                  'when to use': \"\"\"For non-restaurant-related questions (e.g., about FlavourFlix or the virtual assistant)\"\"\" },\n",
    "\n",
    "                  '[INSTRUCTION: Restaurant Description]': \n",
    "                  {'instruction description': f\"\"\"Find the restaurant with the closest name of the query in the data and \\\n",
    "                   return its description using the function get_information.\"\"\",\n",
    "                    'when to use': \"\"\"When the user inquires about a specific restaurant by name.\"\"\"}\n",
    "                                        }\n",
    "\n",
    "\n",
    "instruction_identifier = \"\"\"TASK: Your job is to assign an Instruction Identifier based on a user input (query)  \\\n",
    "    and a chat history. Consider the following instructions: \"\"\" + str(instructions2) + \"\"\"You will receive \\\n",
    "    a chat history between the ChatBot and the user, and a final query from the user. \n",
    "    You will return the answer in the following output:\n",
    "    [Instruction: Instruction Identifier] | query\"\"\"\n",
    "\n",
    "\n",
    "prompt_templates2 = {'Instructions': instructions2,\n",
    "                     'Instruction Identification': instruction_identifier}\n",
    "\n",
    "class GPT_Helper:\n",
    "    def __init__(self,\n",
    "        OPENAI_API_KEY: str,\n",
    "        system_behavior: str=\"\",\n",
    "        #model=\"gpt-4\",\n",
    "        #model = \"gpt-3.5-turbo\"\n",
    "        model = \"gpt-4-0613\"\n",
    "    ):\n",
    "        self.client = OpenAI(api_key=OPENAI_API_KEY)\n",
    "        self.messages = []\n",
    "        self.model = model\n",
    "\n",
    "        if system_behavior:\n",
    "            self.messages.append({\n",
    "                \"role\": \"system\",\n",
    "                \"content\": system_behavior\n",
    "            })\n",
    "\n",
    "           \n",
    "    def get_completion(self, prompt, temperature=0.0):\n",
    "        self.messages = []\n",
    "        self.messages.append({\"role\": \"user\", \"content\": prompt})\n",
    "        completion = self.client.chat.completions.create(\n",
    "            model=self.model,\n",
    "            messages=self.messages,\n",
    "            temperature=temperature,\n",
    "        )\n",
    "        self.messages.append(\n",
    "            {\n",
    "                \"role\": \"assistant\",\n",
    "                \"content\": completion.choices[0].message.content}\n",
    "        )\n",
    "        return completion.choices[0].message.content\n",
    "    \n",
    "\n",
    "    def get_instruction(self, query, chat_history):\n",
    "        prompt = f\"\"\"\n",
    "                The User Message is:{query}\n",
    "                The Chat History is:{chat_history}\n",
    "                \"\"\"\n",
    "\n",
    "        query_formatted = self.get_completion(prompt)\n",
    "        if query not in query_formatted:\n",
    "            query_formatted = f'{query_formatted} | {query}'\n",
    "        return query_formatted"
   ]
  },
  {
   "cell_type": "code",
   "execution_count": 76,
   "metadata": {},
   "outputs": [
    {
     "data": {
      "text/plain": [
       "'[INSTRUCTION: Identification] | Hello'"
      ]
     },
     "execution_count": 76,
     "metadata": {},
     "output_type": "execute_result"
    }
   ],
   "source": [
    "filomena_core = GPT_Helper(OPENAI_API_KEY=local_settings.OPENAI_API_KEY, system_behavior=prompt_templates2['Instruction Identification'])\n",
    "query = 'Hello'\n",
    "history = filomena_core.messages[0]['content']\n",
    "\n",
    "filomena_core.get_instruction(query, history)"
   ]
  },
  {
   "cell_type": "code",
   "execution_count": 77,
   "metadata": {},
   "outputs": [
    {
     "data": {
      "text/plain": [
       "[{'role': 'user',\n",
       "  'content': '\\n                The User Message is:Hello\\n                The Chat History is:TASK: Your job is to assign an Instruction Identifier based on a user input (query)      and a chat history. Consider the following instructions: {\\'[INSTRUCTION: Identification]\\': {\\'instruction description\\': \\'Greet the user by their username or first name, if it exists (is different from \"No Identification Provided\").                                         Otherwise, greet the user as \"Fellow Foodie\". Introduce yourself as Filomena - FlavourFlix\\\\\\' virtual assistance. \\\\n                                        \\\\\\\\Ask the user what they need your help with. No Identification Provided\\', \\'when to use\\': \\'When the user greets the ChatBot and the content of the last message from the assistant is empty.\\'}, \\'[INSTRUCTION: Question]\\': {\\'instruction description\\': \"Answer the user\\'s question based on the provided context and chat history.\", \\'when to use\\': \\'For non-restaurant-related questions (e.g., about FlavourFlix or the virtual assistant)\\'}, \\'[INSTRUCTION: Restaurant Description]\\': {\\'instruction description\\': \\'Find the restaurant with the closest name of the query in the data and                    return its description using the function get_information.\\', \\'when to use\\': \\'When the user inquires about a specific restaurant by name.\\'}}You will receive     a chat history between the ChatBot and the user, and a final query from the user. \\n    You will return the answer in the following output:\\n    [Instruction: Instruction Identifier] | query\\n                '},\n",
       " {'role': 'assistant', 'content': '[INSTRUCTION: Identification] | Hello'}]"
      ]
     },
     "execution_count": 77,
     "metadata": {},
     "output_type": "execute_result"
    }
   ],
   "source": [
    "filomena_core.messages"
   ]
  },
  {
   "cell_type": "code",
   "execution_count": 78,
   "metadata": {},
   "outputs": [],
   "source": [
    "history = [filomena_core.messages[0], {'role': 'assistant', 'content': ''}]"
   ]
  },
  {
   "cell_type": "code",
   "execution_count": 79,
   "metadata": {},
   "outputs": [
    {
     "data": {
      "text/plain": [
       "'[INSTRUCTION: Question] | Who are FlavourFlix authors?'"
      ]
     },
     "execution_count": 79,
     "metadata": {},
     "output_type": "execute_result"
    }
   ],
   "source": [
    "query = 'Who are FlavourFlix authors?'\n",
    "\n",
    "filomena_core.get_instruction(query, history)"
   ]
  },
  {
   "cell_type": "code",
   "execution_count": 80,
   "metadata": {},
   "outputs": [
    {
     "data": {
      "text/plain": [
       "'[INSTRUCTION: Question] | What is FlavourFlix purpose?'"
      ]
     },
     "execution_count": 80,
     "metadata": {},
     "output_type": "execute_result"
    }
   ],
   "source": [
    "query = 'What is FlavourFlix purpose?'\n",
    "history = filomena_core.messages\n",
    "\n",
    "filomena_core.get_instruction(query, history)"
   ]
  },
  {
   "cell_type": "code",
   "execution_count": 81,
   "metadata": {},
   "outputs": [
    {
     "data": {
      "text/plain": [
       "'[INSTRUCTION: Restaurant Description] | Where is the restaurant Chutneys?'"
      ]
     },
     "execution_count": 81,
     "metadata": {},
     "output_type": "execute_result"
    }
   ],
   "source": [
    "query = 'Where is the restaurant Chutneys?'\n",
    "history = filomena_core.messages\n",
    "\n",
    "filomena_core.get_instruction(query, history)"
   ]
  },
  {
   "cell_type": "code",
   "execution_count": 94,
   "metadata": {},
   "outputs": [],
   "source": [
    "from langchain_community.chat_models import ChatOpenAI\n",
    "\n",
    "llm = ChatOpenAI(model=\"gpt-3.5-turbo\", temperature=0)"
   ]
  },
  {
   "cell_type": "code",
   "execution_count": 105,
   "metadata": {},
   "outputs": [],
   "source": [
    "from langchain.agents import tool\n",
    "\n",
    "\n",
    "@tool\n",
    "def get_word_length(word: str) -> int:\n",
    "    \"\"\"Returns the length of a word.\"\"\"\n",
    "    return len(word)\n",
    "\n",
    "\n",
    "tools = [get_word_length]"
   ]
  },
  {
   "cell_type": "code",
   "execution_count": 106,
   "metadata": {},
   "outputs": [],
   "source": [
    "from langchain.prompts import ChatPromptTemplate, MessagesPlaceholder\n",
    "\n",
    "prompt = ChatPromptTemplate.from_messages(\n",
    "    [\n",
    "        (\n",
    "            \"system\",\n",
    "            \"You are very powerful assistant, but don't know current events\",\n",
    "        ),\n",
    "        (\"user\", \"{input}\"),\n",
    "        MessagesPlaceholder(variable_name=\"agent_scratchpad\"),\n",
    "    ]\n",
    ")"
   ]
  },
  {
   "cell_type": "code",
   "execution_count": 108,
   "metadata": {},
   "outputs": [],
   "source": [
    "from langchain_community.tools.convert_to_openai import format_tool_to_openai_function\n",
    "\n",
    "llm_with_tools = llm.bind(functions=[format_tool_to_openai_function(t) for t in tools])"
   ]
  },
  {
   "cell_type": "code",
   "execution_count": 109,
   "metadata": {},
   "outputs": [],
   "source": [
    "from langchain.agents.format_scratchpad import format_to_openai_function_messages\n",
    "from langchain.agents.output_parsers import OpenAIFunctionsAgentOutputParser\n",
    "\n",
    "agent = (\n",
    "    {\n",
    "        \"input\": lambda x: x[\"input\"],\n",
    "        \"agent_scratchpad\": lambda x: format_to_openai_function_messages(\n",
    "            x[\"intermediate_steps\"]\n",
    "        ),\n",
    "    }\n",
    "    | prompt\n",
    "    | llm_with_tools\n",
    "    | OpenAIFunctionsAgentOutputParser()\n",
    ")"
   ]
  },
  {
   "cell_type": "code",
   "execution_count": 110,
   "metadata": {},
   "outputs": [],
   "source": [
    "from langchain.agents import AgentExecutor\n",
    "\n",
    "agent_executor = AgentExecutor(agent=agent, tools=tools, verbose=True)"
   ]
  },
  {
   "cell_type": "code",
   "execution_count": 111,
   "metadata": {},
   "outputs": [
    {
     "name": "stdout",
     "output_type": "stream",
     "text": [
      "\n",
      "\n",
      "\u001b[1m> Entering new AgentExecutor chain...\u001b[0m\n",
      "\u001b[32;1m\u001b[1;3m\n",
      "Invoking: `get_word_length` with `{'word': 'educa'}`\n",
      "\n",
      "\n",
      "\u001b[0m\u001b[36;1m\u001b[1;3m5\u001b[0m\u001b[32;1m\u001b[1;3mThere are 5 letters in the word \"educa\".\u001b[0m\n",
      "\n",
      "\u001b[1m> Finished chain.\u001b[0m\n"
     ]
    },
    {
     "data": {
      "text/plain": [
       "{'input': 'How many letters in the word educa',\n",
       " 'output': 'There are 5 letters in the word \"educa\".'}"
      ]
     },
     "execution_count": 111,
     "metadata": {},
     "output_type": "execute_result"
    }
   ],
   "source": [
    "agent_executor.invoke({\"input\": \"How many letters in the word educa\"})"
   ]
  },
  {
   "cell_type": "code",
   "execution_count": 112,
   "metadata": {},
   "outputs": [],
   "source": [
    "from langchain.prompts import MessagesPlaceholder\n",
    "\n",
    "MEMORY_KEY = \"chat_history\"\n",
    "prompt = ChatPromptTemplate.from_messages(\n",
    "    [\n",
    "        (\n",
    "            \"system\",\n",
    "            \"You are very powerful assistant, but bad at calculating lengths of words.\",\n",
    "        ),\n",
    "        MessagesPlaceholder(variable_name=MEMORY_KEY),\n",
    "        (\"user\", \"{input}\"),\n",
    "        MessagesPlaceholder(variable_name=\"agent_scratchpad\"),\n",
    "    ]\n",
    ")"
   ]
  },
  {
   "cell_type": "code",
   "execution_count": 113,
   "metadata": {},
   "outputs": [],
   "source": [
    "from langchain_core.messages import AIMessage, HumanMessage\n",
    "\n",
    "chat_history = []"
   ]
  },
  {
   "cell_type": "code",
   "execution_count": 114,
   "metadata": {},
   "outputs": [],
   "source": [
    "agent = (\n",
    "    {\n",
    "        \"input\": lambda x: x[\"input\"],\n",
    "        \"agent_scratchpad\": lambda x: format_to_openai_function_messages(\n",
    "            x[\"intermediate_steps\"]\n",
    "        ),\n",
    "        \"chat_history\": lambda x: x[\"chat_history\"],\n",
    "    }\n",
    "    | prompt\n",
    "    | llm_with_tools\n",
    "    | OpenAIFunctionsAgentOutputParser()\n",
    ")\n",
    "agent_executor = AgentExecutor(agent=agent, tools=tools, verbose=True)"
   ]
  },
  {
   "cell_type": "code",
   "execution_count": 115,
   "metadata": {},
   "outputs": [
    {
     "name": "stdout",
     "output_type": "stream",
     "text": [
      "\n",
      "\n",
      "\u001b[1m> Entering new AgentExecutor chain...\u001b[0m\n",
      "\u001b[32;1m\u001b[1;3m\n",
      "Invoking: `get_word_length` with `{'word': 'educa'}`\n",
      "\n",
      "\n",
      "\u001b[0m\u001b[36;1m\u001b[1;3m5\u001b[0m\u001b[32;1m\u001b[1;3mThere are 5 letters in the word \"educa\".\u001b[0m\n",
      "\n",
      "\u001b[1m> Finished chain.\u001b[0m\n",
      "\n",
      "\n",
      "\u001b[1m> Entering new AgentExecutor chain...\u001b[0m\n",
      "\u001b[32;1m\u001b[1;3mNo, \"educa\" is not a real word in English.\u001b[0m\n",
      "\n",
      "\u001b[1m> Finished chain.\u001b[0m\n"
     ]
    },
    {
     "data": {
      "text/plain": [
       "{'input': 'is that a real word?',\n",
       " 'chat_history': [HumanMessage(content='how many letters in the word educa?'),\n",
       "  AIMessage(content='There are 5 letters in the word \"educa\".')],\n",
       " 'output': 'No, \"educa\" is not a real word in English.'}"
      ]
     },
     "execution_count": 115,
     "metadata": {},
     "output_type": "execute_result"
    }
   ],
   "source": [
    "input1 = \"how many letters in the word educa?\"\n",
    "result = agent_executor.invoke({\"input\": input1, \"chat_history\": chat_history})\n",
    "chat_history.extend(\n",
    "    [\n",
    "        HumanMessage(content=input1),\n",
    "        AIMessage(content=result[\"output\"]),\n",
    "    ]\n",
    ")\n",
    "agent_executor.invoke({\"input\": \"is that a real word?\", \"chat_history\": chat_history})"
   ]
  },
  {
   "cell_type": "code",
   "execution_count": 1,
   "metadata": {},
   "outputs": [],
   "source": [
    "from langchain import hub\n",
    "from langchain.agents import AgentExecutor, create_structured_chat_agent\n",
    "from langchain_community.chat_models import ChatOpenAI"
   ]
  },
  {
   "cell_type": "code",
   "execution_count": 14,
   "metadata": {},
   "outputs": [],
   "source": [
    "restaraunt_Data = pd.read_csv('data/preprocessed_restaurant_data.csv')"
   ]
  },
  {
   "cell_type": "code",
   "execution_count": 13,
   "metadata": {},
   "outputs": [],
   "source": [
    "@tool\n",
    "def get_restaurant_info(restaurant_name):\n",
    "    \"\"\"Gathers all the restaurant information from the FlavourFlix restaurant database, based on the name of the restaurant.\"\"\"\n",
    "    restaurant_data = pd.read_csv('data\\preprocessed_restaurant_data.csv')\n",
    "    restaurant_data = restaurant_data[restaurant_data['name'] == restaurant_name]\n",
    "    result = f\"\"\"Name: {restaurant_data[\"name\"].values[0]} \\n /\n",
    "    Cuisine Type: {restaurant_data[\"cuisine\"].values[0]} \\n /\n",
    "    Average Price: {restaurant_data[\"averagePrice\"].values[0]} \\n /\n",
    "    Location: {restaurant_data[\"location\"].values[0]} \\n /\n",
    "    Restaurant Style: {restaurant_data[\"style\"].values[0]} \\n /\n",
    "    Restaurant Schedule: {restaurant_data[\"schedule\"].values[0]}\"\"\"\n",
    "    return result\n",
    "\n",
    "\n",
    "def get_data_match(data, word, col_to_match):\n",
    "    nlp = spacy.load(\"en_core_web_md\")\n",
    "\n",
    "    word_embedding = nlp(word).vector\n",
    "    word_embedding = nlp('mexican').vector\n",
    "    similarities = {}\n",
    "    for token in list(data[col_to_match].unique()):\n",
    "        token_embedding = nlp(token).vector\n",
    "        similarities[token] = cosine_similarity([word_embedding], [token_embedding])[0][0]\n",
    "\n",
    "    return max(similarities, key=similarities.get)\n",
    "\n",
    "\n",
    "def filter_schedule(restaurants, dinner_hour = None, lunch_hour = None):\n",
    "    def contains_time_interval(schedule):\n",
    "        if schedule in ['Closed', 'Not Available']:\n",
    "            return False\n",
    "        schedule_dict = {}\n",
    "        try:\n",
    "            schedule_dict = ast.literal_eval(schedule)\n",
    "        except (SyntaxError, ValueError):\n",
    "            pass\n",
    "\n",
    "        for day_schedule in schedule_dict.values():\n",
    "            if day_schedule == 'Closed':\n",
    "                continue\n",
    "            times = day_schedule.split(', ')\n",
    "            for time in times:\n",
    "                start, end = map(pd.to_datetime, time.split(' - '))\n",
    "                if dinner_hour and lunch_hour:\n",
    "                    if (start <= dinner_start <= end) or (start <= dinner_end <= end) or (start <= lunch_start <= end) or (start <= lunch_end <= end):\n",
    "                        return True\n",
    "                elif dinner_hour:\n",
    "                    if (start <= dinner_start <= end) or (start <= dinner_end <= end):\n",
    "                        return True\n",
    "                elif lunch_hour:\n",
    "                    if (start <= lunch_start <= end) or (start <= lunch_end <= end):\n",
    "                        return True\n",
    "                else:\n",
    "                    return False\n",
    "        return False\n",
    "\n",
    "    dinner_start, dinner_end = map(pd.to_datetime, dinner_hour.split(' - '))\n",
    "    lunch_start, lunch_end = map(pd.to_datetime, lunch_hour.split(' - '))\n",
    "\n",
    "    filtered_restaurants = []\n",
    "    for index, row in restaurants.iterrows():\n",
    "        if contains_time_interval(row['schedule']):\n",
    "            filtered_restaurants.append(row['name'])\n",
    "\n",
    "    return filtered_restaurants\n",
    "\n",
    "@tool\n",
    "def get_recommendation(nationality=None, city=None, travel_car=None,  favourite_food=None,  restaurant_style=None,\n",
    "                       cuisine_type=None, lunch_hour=None, dinner_hour=None,\n",
    "                       normal_price_range=None):\n",
    "    \"\"\"Recommends restaurants based on the user's preferences and requirements.\"\"\"\n",
    "    restaurant_data = pd.read_csv('data/preprocessed_restaurant_data.csv')\n",
    "    filtered_data = restaurant_data.copy()\n",
    "\n",
    "    conditions = []\n",
    "\n",
    "    #Location filters such that the restaurant is near the user and the place the user wants to go\n",
    "    if city:\n",
    "        city_match = get_data_match(restaurant_data, city, 'location')\n",
    "        filtered_data = filtered_data[filtered_data['location'] == city_match]\n",
    "        latitude, longitude = find_coordinates(city_match)\n",
    "        if latitude is not None and longitude is not None:\n",
    "            desired_location = Location(latitude, longitude)\n",
    "            filtered_data = nearYou(desired_location, filtered_data)\n",
    "            if travel_car:\n",
    "                filtered_data['minutes_away'] = filtered_data.apply(lambda row: desired_location.getDirections(row['latitude'], row['longitude'], ['driving'])['driving'].minutes, axis=1)\n",
    "                filtered_data = filtered_data[filtered_data['minutes_away'] <= 35]\n",
    "            else:\n",
    "                filtered_data['minutes_away'] = filtered_data.apply(lambda row: desired_location.getDirections(row['latitude'], row['longitude'], ['walking'])['walking'].minutes, axis=1)\n",
    "                filtered_data = filtered_data[filtered_data['minutes_away'] <= 59]\n",
    "\n",
    "    #Time filters such that the restaurant is open at the time the user wants to go\n",
    "    if lunch_hour:\n",
    "        filtered_data = filter_schedule(filtered_data, dinner_hour, lunch_hour)\n",
    "    if dinner_hour:\n",
    "        filtered_data = filter_schedule(filtered_data, dinner_hour, lunch_hour)\n",
    "    \n",
    "    #Additional filters\n",
    "    if nationality and len(filtered_data) != 0:\n",
    "        nationality_match = get_data_match(restaurant_data, nationality, 'cuisine')\n",
    "        conditions.append(restaurant_data['cuisine'] == nationality_match)\n",
    "    \n",
    "    if restaurant_style:\n",
    "        restaurant_style_match = get_data_match(restaurant_data, restaurant_style, 'style')\n",
    "        conditions.append(restaurant_data['style'] == restaurant_style_match)\n",
    "    \n",
    "    if cuisine_type:\n",
    "        cuisine_type_match = get_data_match(restaurant_data, cuisine_type, 'cuisine')\n",
    "        conditions.append(restaurant_data['cuisine'] == cuisine_type_match)\n",
    "\n",
    "    if normal_price_range:\n",
    "        conditions.append(restaurant_data['averagePrice'] <= normal_price_range+4)\n",
    "\n",
    "    if favourite_food:\n",
    "        if detect(favourite_food) == 'en':\n",
    "            conditions.append(restaurant_data['menu_en'].str.contains(favourite_food))\n",
    "        else:\n",
    "            conditions.append(restaurant_data['menu_pre_proc'].str.contains(favourite_food))\n",
    "    \n",
    "\n",
    "    # Combine conditions with logical OR\n",
    "    if conditions and len(filtered_data) != 0:\n",
    "        filtered_data = restaurant_data[pd.concat(conditions, axis=1).any(axis=1)]\n",
    "    else:\n",
    "        filtered_data = restaurant_data \n",
    "    \n",
    "\n",
    "    # Ranking - sort by ratings or other criteria\n",
    "    restaurant_data = restaurant_data.sort_values(by='ratingValue', ascending=False)\n",
    "\n",
    "    restaurant_data = restaurant_data.head(5)\n",
    "    # Return top recommendations\n",
    "    return restaurant_data['name'].values.tolist()\n"
   ]
  },
  {
   "cell_type": "code",
   "execution_count": 8,
   "metadata": {},
   "outputs": [],
   "source": [
    "tools = [get_recommendation]"
   ]
  },
  {
   "cell_type": "code",
   "execution_count": 9,
   "metadata": {},
   "outputs": [],
   "source": [
    "# Get the prompt to use - you can modify this!\n",
    "prompt = hub.pull(\"hwchase17/structured-chat-agent\")"
   ]
  },
  {
   "cell_type": "code",
   "execution_count": 10,
   "metadata": {},
   "outputs": [],
   "source": [
    "# Choose the LLM that will drive the agent\n",
    "llm = ChatOpenAI(temperature=0, model=\"gpt-3.5-turbo-1106\")\n",
    "\n",
    "# Construct the JSON agent\n",
    "agent = create_structured_chat_agent(llm, tools, prompt)"
   ]
  },
  {
   "cell_type": "code",
   "execution_count": 11,
   "metadata": {},
   "outputs": [],
   "source": [
    "# Create an agent executor by passing in the agent and tools\n",
    "agent_executor = AgentExecutor(\n",
    "    agent=agent, tools=tools, verbose=True, handle_parsing_errors=True\n",
    ")"
   ]
  },
  {
   "cell_type": "code",
   "execution_count": 12,
   "metadata": {},
   "outputs": [
    {
     "name": "stdout",
     "output_type": "stream",
     "text": [
      "\n",
      "\n",
      "\u001b[1m> Entering new AgentExecutor chain...\u001b[0m\n",
      "\u001b[32;1m\u001b[1;3mThought: The user is looking for a Mexican restaurant in Albufeira with a normal price range of 20 and their favorite food is \"massa.\"\n",
      "\n",
      "Action:\n",
      "```\n",
      "{\n",
      "  \"action\": \"get_recommendation\",\n",
      "  \"action_input\": {\n",
      "    \"nationality\": \"Mexican\",\n",
      "    \"city\": \"Albufeira\",\n",
      "    \"normal_price_range\": 20,\n",
      "    \"favourite_food\": \"massa\"\n",
      "  }\n",
      "}\n",
      "```\u001b[0m\u001b[36;1m\u001b[1;3m                                                    url  \\\n",
      "1324  https://www.thefork.com/restaurant/rei-da-gula...   \n",
      "224   https://www.thefork.com/restaurant/caravela-wy...   \n",
      "372   https://www.thefork.com/restaurant/alegre-me-h...   \n",
      "217   https://www.thefork.com/restaurant/grandbar-lo...   \n",
      "419   https://www.thefork.com/restaurant/casa-do-arc...   \n",
      "\n",
      "                                           name  \\\n",
      "1324                                Rei da Gula   \n",
      "224            Caravela - Wyndham Grand Algarve   \n",
      "372                    Alegre-me Healthy Brunch   \n",
      "217   Grandbar & Lounge - Wyndham Grand Algarve   \n",
      "419             Casa do Arco by Douro Exclusive   \n",
      "\n",
      "                                        address  \\\n",
      "1324             R. de Ceuta 63,Porto, Portugal   \n",
      "224      Av. André Jordan 39,Almancil, Portugal   \n",
      "372         R. Antão Girão 77,Setúbal, Portugal   \n",
      "217      Av. André Jordan 39,Almancil, Portugal   \n",
      "419   5085-252,São Cristovão do Douro, Portugal   \n",
      "\n",
      "                                                  photo  averagePrice  \\\n",
      "1324  https://res.cloudinary.com/tf-lab/image/upload...            15   \n",
      "224   https://res.cloudinary.com/tf-lab/image/upload...            21   \n",
      "372   https://res.cloudinary.com/tf-lab/image/upload...            12   \n",
      "217   https://res.cloudinary.com/tf-lab/image/upload...            14   \n",
      "419   https://res.cloudinary.com/tf-lab/image/upload...            35   \n",
      "\n",
      "           chefName1       chefName2       chefName3        cuisine  michelin  \\\n",
      "1324  Not Applicable  Not Applicable  Not Applicable       Pizzeria         0   \n",
      "224   Not Applicable  Not Applicable  Not Applicable  International         0   \n",
      "372   Not Applicable  Not Applicable  Not Applicable     Vegetarian         0   \n",
      "217   Not Applicable  Not Applicable  Not Applicable       European         0   \n",
      "419      Pedro Pires  Not Applicable  Not Applicable       European         0   \n",
      "\n",
      "      ...       city  ambienceRatingSummary  foodRatingSummary  \\\n",
      "1324  ...      Porto                    NaN                NaN   \n",
      "224   ...       Faro                   10.0               10.0   \n",
      "372   ...    Setúbal                   10.0               10.0   \n",
      "217   ...       Faro                   10.0               10.0   \n",
      "419   ...  Vila Real                    9.9                9.6   \n",
      "\n",
      "     serviceRatingSummary                             paymentAcceptedSummary  \\\n",
      "1324                  NaN                           {'Credit Card', 'MBWay'}   \n",
      "224                  10.0                           {'Credit Card', 'MBWay'}   \n",
      "372                  10.0                                    {'Credit Card'}   \n",
      "217                  10.0                           {'Credit Card', 'MBWay'}   \n",
      "419                  10.0  {'Mastercard', 'Credit Card', 'Visa', 'Visa El...   \n",
      "\n",
      "     outdoor_area current_occupation  \\\n",
      "1324            0                  0   \n",
      "224             0                 23   \n",
      "372             0                  0   \n",
      "217             0                  0   \n",
      "419             0                  0   \n",
      "\n",
      "                                          menu_pre_proc  \\\n",
      "1324  {'Entradas - para começar ': {'Sopa': {'price'...   \n",
      "224   {'Entradas': {'Creme De Couve-Flor Com Aroma D...   \n",
      "372   {'Quesadilhas': {'Surfie': {'price': 9.5, 'des...   \n",
      "217   {'Bites wga': {'Mini espetadas frango \\\\\\\\Yaki...   \n",
      "419   {'Para Começar': {'Torradas De Pão': {'price':...   \n",
      "\n",
      "                                                menu_en  \\\n",
      "1324  {'Starters - to get started': {'Sopa': {'price...   \n",
      "224   {'Appetizer': {'Cauliflower Cream with Wasabi ...   \n",
      "372   {'Quesadillas': {'Surfie': {'price': 9.5, 'des...   \n",
      "217   {'Bites wga': {'Mini chicken kebabs \\\\\\\\Yakito...   \n",
      "419   {'To begin': {'Bread Toast': {'price': 8.0, 'd...   \n",
      "\n",
      "                                                menu_pt  \n",
      "1324  {'Entradas - para começar ': {'Soup': {'price'...  \n",
      "224   {'Starters': {'Creme De Couve-Flor Com Aroma D...  \n",
      "372   {'Quesadilhas': {'Surfista': {'price': 9.5, 'd...  \n",
      "217   {'Mordidas wga': {'Mini espetadas frango \\\\\\\\Y...  \n",
      "419   {'Para Começar': {'Torradas De Pão': {'price':...  \n",
      "\n",
      "[5 rows x 33 columns]\u001b[0m\u001b[32;1m\u001b[1;3m```\n",
      "{\n",
      "  \"action\": \"Final Answer\",\n",
      "  \"action_input\": \"I recommend the restaurant Caravela - Wyndham Grand Algarve in Almancil, Portugal. It offers International cuisine, has an average price of 21, and may have options that suit your preference for 'massa'. You can find more information and make a reservation at https://www.thefork.com/restaurant/caravela-wyndham-grand-algarve\"\n",
      "}\n",
      "```\u001b[0m\n",
      "\n",
      "\u001b[1m> Finished chain.\u001b[0m\n"
     ]
    },
    {
     "data": {
      "text/plain": [
       "{'input': 'cuisine: mexican, city: Albufeira, normal_price_range: 20, favourite_food: massa. Give me a restaurant recommendation',\n",
       " 'output': \"I recommend the restaurant Caravela - Wyndham Grand Algarve in Almancil, Portugal. It offers International cuisine, has an average price of 21, and may have options that suit your preference for 'massa'. You can find more information and make a reservation at https://www.thefork.com/restaurant/caravela-wyndham-grand-algarve\"}"
      ]
     },
     "execution_count": 12,
     "metadata": {},
     "output_type": "execute_result"
    }
   ],
   "source": [
    "agent_executor.invoke({\"input\": \"cuisine: mexican, city: Albufeira, normal_price_range: 20, favourite_food: massa. Give me a restaurant recommendation\"})"
   ]
  }
 ],
 "metadata": {
  "kernelspec": {
   "display_name": "env",
   "language": "python",
   "name": "python3"
  },
  "language_info": {
   "codemirror_mode": {
    "name": "ipython",
    "version": 3
   },
   "file_extension": ".py",
   "mimetype": "text/x-python",
   "name": "python",
   "nbconvert_exporter": "python",
   "pygments_lexer": "ipython3",
   "version": "3.9.12"
  }
 },
 "nbformat": 4,
 "nbformat_minor": 2
}

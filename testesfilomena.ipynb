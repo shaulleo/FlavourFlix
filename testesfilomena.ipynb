{
 "cells": [
  {
   "cell_type": "code",
   "execution_count": 45,
   "metadata": {},
   "outputs": [],
   "source": [
    "from functions.streamlitfunc import *\n",
    "from functions.utils import *\n",
    "import time\n",
    "import streamlit as st\n",
    "from functions.chat_bot import *\n",
    "from functions.utils import local_settings\n",
    "from streamlit_extras.switch_page_button import switch_page \n",
    "# Gather the information provided by the user fill them in the following functions:\n",
    "# - get_recommendation\n",
    "# Use the output of the function and present the recommendation in the following format:\n",
    "# - Restaurant Name\n",
    "# - Cuisine Type\n",
    "# - Average Price\n",
    "# - Location\n",
    "# - Restaurant Style\n",
    "# - Restaurant Schedule\n",
    "# Ask if the user would like to see either see another recommendation, proceed with a reservation \\\n",
    "# at the suggested restaurant or know more about the restaurant.\n"
   ]
  },
  {
   "cell_type": "code",
   "execution_count": 46,
   "metadata": {},
   "outputs": [],
   "source": [
    "from langchain.chat_models import ChatOpenAI\n",
    "from langchain.document_loaders import PyPDFLoader\n",
    "from langchain.memory import ConversationBufferMemory\n",
    "from langchain.embeddings.openai import OpenAIEmbeddings\n",
    "from langchain.vectorstores import FAISS\n",
    "from langchain.text_splitter import RecursiveCharacterTextSplitter\n",
    "from prompts_list import *\n",
    "from langchain.chains.question_answering import load_qa_chain\n",
    "from langchain.prompts import PromptTemplate\n",
    "from langchain.chat_models import ChatOpenAI\n",
    "from functions.utils import *\n",
    "from openai import OpenAI"
   ]
  },
  {
   "cell_type": "code",
   "execution_count": 47,
   "metadata": {},
   "outputs": [],
   "source": [
    "files = ['data\\CP-23Group4 Project Proposal.pdf', 'data\\Food Personalities.pdf']\n",
    "fil = Filomena()\n",
    "fil.load_documents(files)"
   ]
  },
  {
   "cell_type": "code",
   "execution_count": 51,
   "metadata": {},
   "outputs": [
    {
     "data": {
      "text/plain": [
       "\"Fellow Foodie, welcome to FlavourFlix! I'm Filomena, your virtual restaurant recommendation assistant. How can I assist you today? What are you in the mood for? #If the question is not related with the restaurant-recommendations, the chatbot proceed with the [Instruction: Question] #If the question is related with the restaurant-recommendations, the chatbot proceed with the [Instruction: Recommendation]\""
      ]
     },
     "execution_count": 51,
     "metadata": {},
     "output_type": "execute_result"
    }
   ],
   "source": [
    "fil.get_completion('[Identification] Hello.', identified=True)"
   ]
  },
  {
   "cell_type": "code",
   "execution_count": 56,
   "metadata": {},
   "outputs": [
    {
     "name": "stdout",
     "output_type": "stream",
     "text": [
      "[Identification] Hello.\n",
      "Fellow Foodie, welcome to FlavourFlix! I'm Filomena, your virtual restaurant recommendation assistant. How can I assist you today? What are you in the mood for? #If the question is not related with the restaurant-recommendations, the chatbot proceed with the [Instruction: Question] #If the question is related with the restaurant-recommendations, the chatbot proceed with the [Instruction: Recommendation]\n"
     ]
    }
   ],
   "source": [
    "for message in fil.messages:\n",
    "    print(message['content'])"
   ]
  },
  {
   "cell_type": "code",
   "execution_count": 52,
   "metadata": {},
   "outputs": [
    {
     "name": "stdout",
     "output_type": "stream",
     "text": [
      "user\n"
     ]
    }
   ],
   "source": [
    "for message in fil.messages:\n",
    "    if message[\"role\"] == \"user\":\n",
    "        avatar = 'https://miro.medium.com/v2/resize:fit:1100/format:webp/1*_ARzR7F_fff_KI14yMKBzw.png'\n",
    "        print('user')\n",
    "    else:\n",
    "        avatar = avatar=\"https://cdn.discordapp.com/attachments/1150843302644547768/1190661589347602492/1000_F_378272550_xN8H7ZVudgCYWzfuZxRxVS5uFKjzsoMg.jpg?ex=65a29d04&is=65902804&hm=4a84c24f579a1d8ac5493b28f47b50c1dc7aaabc2832cb090bd7e4e95b2ab786&\"\n",
    "            # with st.chat_message(message[\"role\"], avatar=avatar):\n",
    "            #     st.markdown(message[\"content\"])"
   ]
  },
  {
   "cell_type": "code",
   "execution_count": 30,
   "metadata": {},
   "outputs": [
    {
     "ename": "TypeError",
     "evalue": "prep_question() takes 2 positional arguments but 3 were given",
     "output_type": "error",
     "traceback": [
      "\u001b[1;31m---------------------------------------------------------------------------\u001b[0m",
      "\u001b[1;31mTypeError\u001b[0m                                 Traceback (most recent call last)",
      "Cell \u001b[1;32mIn[30], line 1\u001b[0m\n\u001b[1;32m----> 1\u001b[0m \u001b[43mfil\u001b[49m\u001b[38;5;241;43m.\u001b[39;49m\u001b[43mprep_question\u001b[49m\u001b[43m(\u001b[49m\u001b[38;5;124;43m'\u001b[39;49m\u001b[38;5;124;43mWho are the authors of FlavourFlix?\u001b[39;49m\u001b[38;5;124;43m'\u001b[39;49m\u001b[43m,\u001b[49m\u001b[43m \u001b[49m\n\u001b[0;32m      2\u001b[0m \u001b[43m                  \u001b[49m\u001b[38;5;124;43m\"\u001b[39;49m\u001b[38;5;124;43mFellow Foodie, I\u001b[39;49m\u001b[38;5;124;43m'\u001b[39;49m\u001b[38;5;124;43mm Filomena, your virtual assistant from FlavourFlix! We specialize in recommending restaurants based on your preferences and requirements. So, what are you in the mood for today? Let\u001b[39;49m\u001b[38;5;124;43m'\u001b[39;49m\u001b[38;5;124;43ms find the perfect restaurant for you!\u001b[39;49m\u001b[38;5;124;43m\"\u001b[39;49m\u001b[43m)\u001b[49m\n",
      "\u001b[1;31mTypeError\u001b[0m: prep_question() takes 2 positional arguments but 3 were given"
     ]
    }
   ],
   "source": [
    "fil.prep_question('Who are the authors of FlavourFlix?', \n",
    "                  \"Fellow Foodie, I'm Filomena, your virtual assistant from FlavourFlix! We specialize in recommending restaurants based on your preferences and requirements. So, what are you in the mood for today? Let's find the perfect restaurant for you!\")"
   ]
  },
  {
   "cell_type": "code",
   "execution_count": 40,
   "metadata": {},
   "outputs": [],
   "source": [
    "from prompt_templates import *\n",
    "query_helper = GPT_Helper(OPENAI_API_KEY=local_settings.OPENAI_API_KEY, system_behavior=prompt_templates['Query Helper System'])"
   ]
  },
  {
   "cell_type": "code",
   "execution_count": 41,
   "metadata": {},
   "outputs": [],
   "source": [
    "def prep_question( query, chatbot_message):\n",
    "    prompt = f\"\"\"\n",
    "            The User Message is:{query}\n",
    "            The ChatBot Message is:{chatbot_message}\n",
    "            \"\"\"\n",
    "\n",
    "    query_formatted = query_helper.get_completion(prompt)\n",
    "    return query_formatted"
   ]
  }
 ],
 "metadata": {
  "kernelspec": {
   "display_name": "env",
   "language": "python",
   "name": "python3"
  },
  "language_info": {
   "codemirror_mode": {
    "name": "ipython",
    "version": 3
   },
   "file_extension": ".py",
   "mimetype": "text/x-python",
   "name": "python",
   "nbconvert_exporter": "python",
   "pygments_lexer": "ipython3",
   "version": "3.9.12"
  }
 },
 "nbformat": 4,
 "nbformat_minor": 2
}
